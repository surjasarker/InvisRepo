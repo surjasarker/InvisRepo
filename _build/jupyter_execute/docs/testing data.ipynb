{
 "cells": [
  {
   "cell_type": "code",
   "execution_count": 1,
   "metadata": {},
   "outputs": [
    {
     "ename": "ModuleNotFoundError",
     "evalue": "No module named 'plotly'",
     "output_type": "error",
     "traceback": [
      "\u001b[0;31m---------------------------------------------------------------------------\u001b[0m",
      "\u001b[0;31mModuleNotFoundError\u001b[0m                       Traceback (most recent call last)",
      "Cell \u001b[0;32mIn[1], line 2\u001b[0m\n\u001b[1;32m      1\u001b[0m \u001b[38;5;28;01mimport\u001b[39;00m \u001b[38;5;21;01mpandas\u001b[39;00m \u001b[38;5;28;01mas\u001b[39;00m \u001b[38;5;21;01mpd\u001b[39;00m\n\u001b[0;32m----> 2\u001b[0m \u001b[38;5;28;01mimport\u001b[39;00m \u001b[38;5;21;01mplotly\u001b[39;00m\u001b[38;5;21;01m.\u001b[39;00m\u001b[38;5;21;01mgraph_objs\u001b[39;00m \u001b[38;5;28;01mas\u001b[39;00m \u001b[38;5;21;01mgo\u001b[39;00m\n\u001b[1;32m      3\u001b[0m \u001b[38;5;28;01mimport\u001b[39;00m \u001b[38;5;21;01mplotly\u001b[39;00m\u001b[38;5;21;01m.\u001b[39;00m\u001b[38;5;21;01mexpress\u001b[39;00m \u001b[38;5;28;01mas\u001b[39;00m \u001b[38;5;21;01mpx\u001b[39;00m\n\u001b[1;32m      4\u001b[0m \u001b[38;5;28;01mimport\u001b[39;00m \u001b[38;5;21;01mnumpy\u001b[39;00m \u001b[38;5;28;01mas\u001b[39;00m \u001b[38;5;21;01mnp\u001b[39;00m\n",
      "\u001b[0;31mModuleNotFoundError\u001b[0m: No module named 'plotly'"
     ]
    }
   ],
   "source": [
    "import pandas as pd\n",
    "import plotly.graph_objs as go\n",
    "import plotly.express as px\n",
    "import numpy as np\n",
    "water = pd.read_csv('new_water_done5.csv')\n",
    "green = pd.read_csv('pivoted_data_GREEN_GROWTH.csv')\n",
    "inno = pd.read_csv('pivoted_data_inno.csv')\n",
    "infra = pd.read_csv('pivoted_data_ITF_INFRA.csv')\n",
    "MEI = pd.read_csv('MEI_time_to_year.csv')\n",
    "\n",
    "columns_water = water.select_dtypes(include=['float'])\n",
    "columns_inno = inno.select_dtypes(include=['float'])\n",
    "columns_green = green.select_dtypes(include=['float'])\n",
    "columns_infra = infra.select_dtypes(include=['float'])\n",
    "columns_MEI = MEI.select_dtypes(include=['float'])"
   ]
  },
  {
   "cell_type": "code",
   "execution_count": 184,
   "metadata": {},
   "outputs": [
    {
     "name": "stdout",
     "output_type": "stream",
     "text": [
      "NATIONAL-Basic Start: 83.28\n",
      "NATIONAL-Basic End: 89.53\n",
      "Improvement in %: 6.25\n",
      "\n",
      "URBAN-Basic Start: 91.40\n",
      "URBAN-Basic End: 94.03\n",
      "Improvement in %: 2.63\n",
      "\n",
      "RURAL-Basic Start: 72.19\n",
      "RURAL-Basic End: 79.68\n",
      "Improvement in %: 7.49\n",
      "\n"
     ]
    },
    {
     "data": {
      "application/vnd.plotly.v1+json": {
       "config": {
        "plotlyServerURL": "https://plot.ly"
       },
       "data": [
        {
         "hovertemplate": "Legend Label=NATIONAL-Basic<br>Year=%{x}<br>Average Value=%{y}<extra></extra>",
         "legendgroup": "NATIONAL-Basic",
         "line": {
          "color": "#636efa",
          "dash": "solid"
         },
         "marker": {
          "symbol": "circle"
         },
         "mode": "lines+markers",
         "name": "NATIONAL-Basic",
         "orientation": "v",
         "showlegend": true,
         "type": "scatter",
         "x": [
          2000,
          2001,
          2002,
          2003,
          2004,
          2005,
          2006,
          2007,
          2008,
          2009,
          2010,
          2011,
          2012,
          2013,
          2014,
          2015,
          2016,
          2017,
          2018,
          2019,
          2020
         ],
         "xaxis": "x",
         "y": [
          83.27866495711666,
          83.57759205172776,
          83.90056785040838,
          84.23585663968713,
          84.56928894097811,
          84.91171117158166,
          85.25440269266711,
          85.5928096465041,
          85.93971716475586,
          86.28229178057032,
          86.6242085964382,
          86.95647226670212,
          87.28197597914483,
          87.6023681724648,
          87.91738685904248,
          88.23325969357111,
          88.54429027218876,
          88.83666020951614,
          89.09191415661466,
          89.33538279368824,
          89.53217348011584
         ],
         "yaxis": "y"
        },
        {
         "hovertemplate": "Legend Label=URBAN-Basic<br>Year=%{x}<br>Average Value=%{y}<extra></extra>",
         "legendgroup": "URBAN-Basic",
         "line": {
          "color": "#EF553B",
          "dash": "solid"
         },
         "marker": {
          "symbol": "circle"
         },
         "mode": "lines+markers",
         "name": "URBAN-Basic",
         "orientation": "v",
         "showlegend": true,
         "type": "scatter",
         "x": [
          2000,
          2001,
          2002,
          2003,
          2004,
          2005,
          2006,
          2007,
          2008,
          2009,
          2010,
          2011,
          2012,
          2013,
          2014,
          2015,
          2016,
          2017,
          2018,
          2019,
          2020
         ],
         "xaxis": "x",
         "y": [
          91.398831316176,
          91.49896671019633,
          91.62858193180386,
          91.76384931080806,
          91.90041486455382,
          92.0400792238136,
          92.18222898289508,
          92.32663713348116,
          92.4701945861885,
          92.61410470750127,
          92.75562509150356,
          92.8959654812918,
          93.0438401234452,
          93.1904811146995,
          93.33313887799352,
          93.48149349365318,
          93.61898346094574,
          93.74313445288749,
          93.85338254440093,
          93.96134751478328,
          94.02562486721892
         ],
         "yaxis": "y"
        },
        {
         "hovertemplate": "Legend Label=RURAL-Basic<br>Year=%{x}<br>Average Value=%{y}<extra></extra>",
         "legendgroup": "RURAL-Basic",
         "line": {
          "color": "#00cc96",
          "dash": "solid"
         },
         "marker": {
          "symbol": "circle"
         },
         "mode": "lines+markers",
         "name": "RURAL-Basic",
         "orientation": "v",
         "showlegend": true,
         "type": "scatter",
         "x": [
          2000,
          2001,
          2002,
          2003,
          2004,
          2005,
          2006,
          2007,
          2008,
          2009,
          2010,
          2011,
          2012,
          2013,
          2014,
          2015,
          2016,
          2017,
          2018,
          2019,
          2020
         ],
         "xaxis": "x",
         "y": [
          72.19212468489779,
          72.51892045792012,
          72.8731663269765,
          73.24220921587244,
          73.61585632900776,
          74.00749852081113,
          74.40342189377095,
          74.80215932956112,
          75.2006555712403,
          75.59696018306134,
          75.99797538324367,
          76.39186875793827,
          76.78691982672242,
          77.18331055264684,
          77.58263119173203,
          77.98747383618218,
          78.39054450585003,
          78.77193396897808,
          79.10481242635687,
          79.41216219329559,
          79.67822309934799
         ],
         "yaxis": "y"
        }
       ],
       "layout": {
        "legend": {
         "title": {
          "text": "Legend Label"
         },
         "tracegroupgap": 0
        },
        "margin": {
         "t": 60
        },
        "showlegend": true,
        "template": {
         "data": {
          "bar": [
           {
            "error_x": {
             "color": "#2a3f5f"
            },
            "error_y": {
             "color": "#2a3f5f"
            },
            "marker": {
             "line": {
              "color": "#E5ECF6",
              "width": 0.5
             },
             "pattern": {
              "fillmode": "overlay",
              "size": 10,
              "solidity": 0.2
             }
            },
            "type": "bar"
           }
          ],
          "barpolar": [
           {
            "marker": {
             "line": {
              "color": "#E5ECF6",
              "width": 0.5
             },
             "pattern": {
              "fillmode": "overlay",
              "size": 10,
              "solidity": 0.2
             }
            },
            "type": "barpolar"
           }
          ],
          "carpet": [
           {
            "aaxis": {
             "endlinecolor": "#2a3f5f",
             "gridcolor": "white",
             "linecolor": "white",
             "minorgridcolor": "white",
             "startlinecolor": "#2a3f5f"
            },
            "baxis": {
             "endlinecolor": "#2a3f5f",
             "gridcolor": "white",
             "linecolor": "white",
             "minorgridcolor": "white",
             "startlinecolor": "#2a3f5f"
            },
            "type": "carpet"
           }
          ],
          "choropleth": [
           {
            "colorbar": {
             "outlinewidth": 0,
             "ticks": ""
            },
            "type": "choropleth"
           }
          ],
          "contour": [
           {
            "colorbar": {
             "outlinewidth": 0,
             "ticks": ""
            },
            "colorscale": [
             [
              0,
              "#0d0887"
             ],
             [
              0.1111111111111111,
              "#46039f"
             ],
             [
              0.2222222222222222,
              "#7201a8"
             ],
             [
              0.3333333333333333,
              "#9c179e"
             ],
             [
              0.4444444444444444,
              "#bd3786"
             ],
             [
              0.5555555555555556,
              "#d8576b"
             ],
             [
              0.6666666666666666,
              "#ed7953"
             ],
             [
              0.7777777777777778,
              "#fb9f3a"
             ],
             [
              0.8888888888888888,
              "#fdca26"
             ],
             [
              1,
              "#f0f921"
             ]
            ],
            "type": "contour"
           }
          ],
          "contourcarpet": [
           {
            "colorbar": {
             "outlinewidth": 0,
             "ticks": ""
            },
            "type": "contourcarpet"
           }
          ],
          "heatmap": [
           {
            "colorbar": {
             "outlinewidth": 0,
             "ticks": ""
            },
            "colorscale": [
             [
              0,
              "#0d0887"
             ],
             [
              0.1111111111111111,
              "#46039f"
             ],
             [
              0.2222222222222222,
              "#7201a8"
             ],
             [
              0.3333333333333333,
              "#9c179e"
             ],
             [
              0.4444444444444444,
              "#bd3786"
             ],
             [
              0.5555555555555556,
              "#d8576b"
             ],
             [
              0.6666666666666666,
              "#ed7953"
             ],
             [
              0.7777777777777778,
              "#fb9f3a"
             ],
             [
              0.8888888888888888,
              "#fdca26"
             ],
             [
              1,
              "#f0f921"
             ]
            ],
            "type": "heatmap"
           }
          ],
          "heatmapgl": [
           {
            "colorbar": {
             "outlinewidth": 0,
             "ticks": ""
            },
            "colorscale": [
             [
              0,
              "#0d0887"
             ],
             [
              0.1111111111111111,
              "#46039f"
             ],
             [
              0.2222222222222222,
              "#7201a8"
             ],
             [
              0.3333333333333333,
              "#9c179e"
             ],
             [
              0.4444444444444444,
              "#bd3786"
             ],
             [
              0.5555555555555556,
              "#d8576b"
             ],
             [
              0.6666666666666666,
              "#ed7953"
             ],
             [
              0.7777777777777778,
              "#fb9f3a"
             ],
             [
              0.8888888888888888,
              "#fdca26"
             ],
             [
              1,
              "#f0f921"
             ]
            ],
            "type": "heatmapgl"
           }
          ],
          "histogram": [
           {
            "marker": {
             "pattern": {
              "fillmode": "overlay",
              "size": 10,
              "solidity": 0.2
             }
            },
            "type": "histogram"
           }
          ],
          "histogram2d": [
           {
            "colorbar": {
             "outlinewidth": 0,
             "ticks": ""
            },
            "colorscale": [
             [
              0,
              "#0d0887"
             ],
             [
              0.1111111111111111,
              "#46039f"
             ],
             [
              0.2222222222222222,
              "#7201a8"
             ],
             [
              0.3333333333333333,
              "#9c179e"
             ],
             [
              0.4444444444444444,
              "#bd3786"
             ],
             [
              0.5555555555555556,
              "#d8576b"
             ],
             [
              0.6666666666666666,
              "#ed7953"
             ],
             [
              0.7777777777777778,
              "#fb9f3a"
             ],
             [
              0.8888888888888888,
              "#fdca26"
             ],
             [
              1,
              "#f0f921"
             ]
            ],
            "type": "histogram2d"
           }
          ],
          "histogram2dcontour": [
           {
            "colorbar": {
             "outlinewidth": 0,
             "ticks": ""
            },
            "colorscale": [
             [
              0,
              "#0d0887"
             ],
             [
              0.1111111111111111,
              "#46039f"
             ],
             [
              0.2222222222222222,
              "#7201a8"
             ],
             [
              0.3333333333333333,
              "#9c179e"
             ],
             [
              0.4444444444444444,
              "#bd3786"
             ],
             [
              0.5555555555555556,
              "#d8576b"
             ],
             [
              0.6666666666666666,
              "#ed7953"
             ],
             [
              0.7777777777777778,
              "#fb9f3a"
             ],
             [
              0.8888888888888888,
              "#fdca26"
             ],
             [
              1,
              "#f0f921"
             ]
            ],
            "type": "histogram2dcontour"
           }
          ],
          "mesh3d": [
           {
            "colorbar": {
             "outlinewidth": 0,
             "ticks": ""
            },
            "type": "mesh3d"
           }
          ],
          "parcoords": [
           {
            "line": {
             "colorbar": {
              "outlinewidth": 0,
              "ticks": ""
             }
            },
            "type": "parcoords"
           }
          ],
          "pie": [
           {
            "automargin": true,
            "type": "pie"
           }
          ],
          "scatter": [
           {
            "fillpattern": {
             "fillmode": "overlay",
             "size": 10,
             "solidity": 0.2
            },
            "type": "scatter"
           }
          ],
          "scatter3d": [
           {
            "line": {
             "colorbar": {
              "outlinewidth": 0,
              "ticks": ""
             }
            },
            "marker": {
             "colorbar": {
              "outlinewidth": 0,
              "ticks": ""
             }
            },
            "type": "scatter3d"
           }
          ],
          "scattercarpet": [
           {
            "marker": {
             "colorbar": {
              "outlinewidth": 0,
              "ticks": ""
             }
            },
            "type": "scattercarpet"
           }
          ],
          "scattergeo": [
           {
            "marker": {
             "colorbar": {
              "outlinewidth": 0,
              "ticks": ""
             }
            },
            "type": "scattergeo"
           }
          ],
          "scattergl": [
           {
            "marker": {
             "colorbar": {
              "outlinewidth": 0,
              "ticks": ""
             }
            },
            "type": "scattergl"
           }
          ],
          "scattermapbox": [
           {
            "marker": {
             "colorbar": {
              "outlinewidth": 0,
              "ticks": ""
             }
            },
            "type": "scattermapbox"
           }
          ],
          "scatterpolar": [
           {
            "marker": {
             "colorbar": {
              "outlinewidth": 0,
              "ticks": ""
             }
            },
            "type": "scatterpolar"
           }
          ],
          "scatterpolargl": [
           {
            "marker": {
             "colorbar": {
              "outlinewidth": 0,
              "ticks": ""
             }
            },
            "type": "scatterpolargl"
           }
          ],
          "scatterternary": [
           {
            "marker": {
             "colorbar": {
              "outlinewidth": 0,
              "ticks": ""
             }
            },
            "type": "scatterternary"
           }
          ],
          "surface": [
           {
            "colorbar": {
             "outlinewidth": 0,
             "ticks": ""
            },
            "colorscale": [
             [
              0,
              "#0d0887"
             ],
             [
              0.1111111111111111,
              "#46039f"
             ],
             [
              0.2222222222222222,
              "#7201a8"
             ],
             [
              0.3333333333333333,
              "#9c179e"
             ],
             [
              0.4444444444444444,
              "#bd3786"
             ],
             [
              0.5555555555555556,
              "#d8576b"
             ],
             [
              0.6666666666666666,
              "#ed7953"
             ],
             [
              0.7777777777777778,
              "#fb9f3a"
             ],
             [
              0.8888888888888888,
              "#fdca26"
             ],
             [
              1,
              "#f0f921"
             ]
            ],
            "type": "surface"
           }
          ],
          "table": [
           {
            "cells": {
             "fill": {
              "color": "#EBF0F8"
             },
             "line": {
              "color": "white"
             }
            },
            "header": {
             "fill": {
              "color": "#C8D4E3"
             },
             "line": {
              "color": "white"
             }
            },
            "type": "table"
           }
          ]
         },
         "layout": {
          "annotationdefaults": {
           "arrowcolor": "#2a3f5f",
           "arrowhead": 0,
           "arrowwidth": 1
          },
          "autotypenumbers": "strict",
          "coloraxis": {
           "colorbar": {
            "outlinewidth": 0,
            "ticks": ""
           }
          },
          "colorscale": {
           "diverging": [
            [
             0,
             "#8e0152"
            ],
            [
             0.1,
             "#c51b7d"
            ],
            [
             0.2,
             "#de77ae"
            ],
            [
             0.3,
             "#f1b6da"
            ],
            [
             0.4,
             "#fde0ef"
            ],
            [
             0.5,
             "#f7f7f7"
            ],
            [
             0.6,
             "#e6f5d0"
            ],
            [
             0.7,
             "#b8e186"
            ],
            [
             0.8,
             "#7fbc41"
            ],
            [
             0.9,
             "#4d9221"
            ],
            [
             1,
             "#276419"
            ]
           ],
           "sequential": [
            [
             0,
             "#0d0887"
            ],
            [
             0.1111111111111111,
             "#46039f"
            ],
            [
             0.2222222222222222,
             "#7201a8"
            ],
            [
             0.3333333333333333,
             "#9c179e"
            ],
            [
             0.4444444444444444,
             "#bd3786"
            ],
            [
             0.5555555555555556,
             "#d8576b"
            ],
            [
             0.6666666666666666,
             "#ed7953"
            ],
            [
             0.7777777777777778,
             "#fb9f3a"
            ],
            [
             0.8888888888888888,
             "#fdca26"
            ],
            [
             1,
             "#f0f921"
            ]
           ],
           "sequentialminus": [
            [
             0,
             "#0d0887"
            ],
            [
             0.1111111111111111,
             "#46039f"
            ],
            [
             0.2222222222222222,
             "#7201a8"
            ],
            [
             0.3333333333333333,
             "#9c179e"
            ],
            [
             0.4444444444444444,
             "#bd3786"
            ],
            [
             0.5555555555555556,
             "#d8576b"
            ],
            [
             0.6666666666666666,
             "#ed7953"
            ],
            [
             0.7777777777777778,
             "#fb9f3a"
            ],
            [
             0.8888888888888888,
             "#fdca26"
            ],
            [
             1,
             "#f0f921"
            ]
           ]
          },
          "colorway": [
           "#636efa",
           "#EF553B",
           "#00cc96",
           "#ab63fa",
           "#FFA15A",
           "#19d3f3",
           "#FF6692",
           "#B6E880",
           "#FF97FF",
           "#FECB52"
          ],
          "font": {
           "color": "#2a3f5f"
          },
          "geo": {
           "bgcolor": "white",
           "lakecolor": "white",
           "landcolor": "#E5ECF6",
           "showlakes": true,
           "showland": true,
           "subunitcolor": "white"
          },
          "hoverlabel": {
           "align": "left"
          },
          "hovermode": "closest",
          "mapbox": {
           "style": "light"
          },
          "paper_bgcolor": "white",
          "plot_bgcolor": "#E5ECF6",
          "polar": {
           "angularaxis": {
            "gridcolor": "white",
            "linecolor": "white",
            "ticks": ""
           },
           "bgcolor": "#E5ECF6",
           "radialaxis": {
            "gridcolor": "white",
            "linecolor": "white",
            "ticks": ""
           }
          },
          "scene": {
           "xaxis": {
            "backgroundcolor": "#E5ECF6",
            "gridcolor": "white",
            "gridwidth": 2,
            "linecolor": "white",
            "showbackground": true,
            "ticks": "",
            "zerolinecolor": "white"
           },
           "yaxis": {
            "backgroundcolor": "#E5ECF6",
            "gridcolor": "white",
            "gridwidth": 2,
            "linecolor": "white",
            "showbackground": true,
            "ticks": "",
            "zerolinecolor": "white"
           },
           "zaxis": {
            "backgroundcolor": "#E5ECF6",
            "gridcolor": "white",
            "gridwidth": 2,
            "linecolor": "white",
            "showbackground": true,
            "ticks": "",
            "zerolinecolor": "white"
           }
          },
          "shapedefaults": {
           "line": {
            "color": "#2a3f5f"
           }
          },
          "ternary": {
           "aaxis": {
            "gridcolor": "white",
            "linecolor": "white",
            "ticks": ""
           },
           "baxis": {
            "gridcolor": "white",
            "linecolor": "white",
            "ticks": ""
           },
           "bgcolor": "#E5ECF6",
           "caxis": {
            "gridcolor": "white",
            "linecolor": "white",
            "ticks": ""
           }
          },
          "title": {
           "x": 0.05
          },
          "xaxis": {
           "automargin": true,
           "gridcolor": "white",
           "linecolor": "white",
           "ticks": "",
           "title": {
            "standoff": 15
           },
           "zerolinecolor": "white",
           "zerolinewidth": 2
          },
          "yaxis": {
           "automargin": true,
           "gridcolor": "white",
           "linecolor": "white",
           "ticks": "",
           "title": {
            "standoff": 15
           },
           "zerolinecolor": "white",
           "zerolinewidth": 2
          }
         }
        },
        "title": {
         "text": "Average Water Quality per Year"
        },
        "xaxis": {
         "anchor": "y",
         "domain": [
          0,
          1
         ],
         "title": {
          "text": "Year"
         }
        },
        "yaxis": {
         "anchor": "x",
         "domain": [
          0,
          1
         ],
         "title": {
          "text": "Average Water Quality %"
         }
        }
       }
      }
     },
     "metadata": {},
     "output_type": "display_data"
    }
   ],
   "source": [
    "import pandas as pd\n",
    "import plotly.express as px\n",
    "\n",
    "# Read the data from CSV\n",
    "df = pd.read_csv('new_water_done5.csv')\n",
    "\n",
    "# Calculate the average values per year\n",
    "averages = df.groupby('Year')[['NATIONAL-Basic', 'URBAN-Basic', 'RURAL-Basic']].mean().reset_index()\n",
    "\n",
    "# Melt the dataframe to long format\n",
    "averages = pd.melt(averages, id_vars='Year', value_vars=['NATIONAL-Basic', 'URBAN-Basic', 'RURAL-Basic'],\n",
    "                   var_name='Column', value_name='Average Value')\n",
    "\n",
    "# Create a line plot for the averages\n",
    "fig = px.line(averages, x='Year', y='Average Value', color='Column', markers=True, \n",
    "              labels={'Column': 'Legend Label'})\n",
    "\n",
    "# Configure the layout\n",
    "fig.update_layout(\n",
    "    title='Average Water Quality per Year',\n",
    "    xaxis_title='Year',\n",
    "    yaxis_title='Average Water Quality %',\n",
    "    showlegend=True  # Display the legend\n",
    ")\n",
    "\n",
    "# Print the average values at the beginning and end of each line\n",
    "for column in averages['Column'].unique():\n",
    "    avg_start = averages.loc[averages['Column'] == column, 'Average Value'].iloc[0]\n",
    "    avg_end = averages.loc[averages['Column'] == column, 'Average Value'].iloc[-1]\n",
    "    difference = avg_end - avg_start\n",
    "    print(f'{column} Start: {avg_start:.2f}')\n",
    "    print(f'{column} End: {avg_end:.2f}')\n",
    "    print(f'Improvement in %: {difference:.2f}')\n",
    "    print()\n",
    "\n",
    "# Show the plot\n",
    "fig.show()\n"
   ]
  },
  {
   "cell_type": "code",
   "execution_count": 185,
   "metadata": {},
   "outputs": [],
   "source": [
    "avg_GDP = green.groupby('ISO3')['Real GDP per capita'].mean().reset_index()\n",
    "\n",
    "avg_national_basic = water.groupby('ISO3')['NATIONAL-Basic'].mean().reset_index()\n",
    "#veranderen naar ISO3 evt\n",
    "eenvalue = green.groupby('ISO3')['Loss of natural and semi-natural vegetated land, % since 1992'].median()\n",
    "green_veg_loss = pd.DataFrame({'ISO3': eenvalue.index, 'Loss': eenvalue.values})\n",
    "gdp = green.groupby('ISO3')['Real GDP per capita'].mean()\n",
    "gdp_green = pd.DataFrame({'ISO3': gdp.index, 'GDP': gdp.values})\n",
    "water_basic = water.groupby('ISO3')['NATIONAL-Basic'].mean()\n",
    "water_basic_filt = pd.DataFrame({'ISO3': water_basic.index, 'Basic': water_basic.values})"
   ]
  },
  {
   "cell_type": "code",
   "execution_count": 187,
   "metadata": {},
   "outputs": [
    {
     "name": "stdout",
     "output_type": "stream",
     "text": [
      "    ISO3  Last Value\n",
      "0    ABW         NaN\n",
      "1    AFG         NaN\n",
      "2    AGO       58.07\n",
      "3    AIA         NaN\n",
      "4    ALB       33.88\n",
      "..   ...         ...\n",
      "231  WSM         NaN\n",
      "232  YEM        6.05\n",
      "233  ZAF        6.21\n",
      "234  ZMB       81.80\n",
      "235  ZWE       77.33\n",
      "\n",
      "[236 rows x 2 columns]\n"
     ]
    }
   ],
   "source": [
    "import pandas as pd\n",
    "\n",
    "# Define a custom function to get the last non-missing value\n",
    "def last_non_missing_value(series):\n",
    "    non_missing_values = series.dropna()\n",
    "    return non_missing_values.iloc[-1] if len(non_missing_values) > 0 else None\n",
    "\n",
    "# Group the data by \"COU\" and apply the custom function to get the last non-missing value\n",
    "last_values = green.groupby('ISO3')['Renewable energy supply, % total energy supply'].apply(last_non_missing_value)\n",
    "\n",
    "# Create a new DataFrame with \"COU\" and last non-missing values\n",
    "last_df = pd.DataFrame({'ISO3': last_values.index, 'Last Value': last_values.values})\n",
    "\n",
    "# Display the new DataFrame\n",
    "print(last_df)\n",
    "\n"
   ]
  },
  {
   "cell_type": "code",
   "execution_count": 188,
   "metadata": {},
   "outputs": [
    {
     "name": "stdout",
     "output_type": "stream",
     "text": [
      "    ISO3  Last Value      Basic           GDP    Loss\n",
      "0    ABW         NaN  96.822766  38237.170909  10.040\n",
      "1    AFG         NaN  49.265605   1807.108000   2.170\n",
      "2    AGO       58.07  50.094761   6173.841818   1.195\n",
      "3    AIA         NaN  97.044593           NaN   0.455\n",
      "4    ALB       33.88  91.149894  10087.662727   1.990\n",
      "..   ...         ...        ...           ...     ...\n",
      "211  WSM         NaN  90.218088   5373.420455   0.000\n",
      "212  YEM        6.05  50.401790   3162.222727   2.495\n",
      "213  ZAF        6.21  89.467232  11695.595455   1.430\n",
      "214  ZMB       81.80  56.974370   2904.625909   2.385\n",
      "215  ZWE       77.33  67.535750   2390.374545   3.885\n",
      "\n",
      "[216 rows x 5 columns]\n"
     ]
    }
   ],
   "source": [
    "merged_data = pd.merge(last_df, water_basic_filt, on='ISO3', how='inner')\n",
    "merged_data = pd.merge(merged_data, gdp_green, on='ISO3', how='inner')\n",
    "merged_data = pd.merge(merged_data, green_veg_loss, on='ISO3', how='inner')\n",
    "\n",
    "# Display the merged DataFrame\n",
    "print(merged_data)\n"
   ]
  },
  {
   "cell_type": "code",
   "execution_count": 189,
   "metadata": {},
   "outputs": [
    {
     "data": {
      "application/vnd.plotly.v1+json": {
       "config": {
        "plotlyServerURL": "https://plot.ly"
       },
       "data": [
        {
         "dimensions": [
          {
           "label": "GDP",
           "range": [
            747.830909090909,
            106355.82681818181
           ],
           "values": [
            38237.170909090906,
            1807.1080000000002,
            6173.841818181818,
            null,
            10087.662727272727,
            52483.420909090906,
            77133.45227272727,
            18326.67409090909,
            8433.306818181818,
            null,
            20191.291363636363,
            44699.59636363637,
            48702.637272727276,
            11171.91090909091,
            808.425909090909,
            44757.385,
            2696.8336363636367,
            null,
            1513.0995454545455,
            3003.652727272727,
            16363.587272727273,
            44995.42590909091,
            33179.556363636366,
            10305.424545454545,
            null,
            14898.59181818182,
            9041.031818181818,
            80194.2709090909,
            6043.962272727274,
            13582.176363636363,
            15955.197272727273,
            65345.83909090909,
            7454.102272727273,
            13053.201363636363,
            885.2327272727272,
            42921.14409090909,
            62959.21136363636,
            19638.438636363637,
            9614.951363636363,
            4234.444090909091,
            3221.8177272727276,
            747.830909090909,
            3953.3422727272728,
            null,
            11128.564545454547,
            2797.4518181818185,
            5357.964545454545,
            15766.202727272728,
            20177.43909090909,
            22957.64409090909,
            68848.0725,
            34301.725454545456,
            31431.265909090907,
            44920.97818181818,
            3146.6850000000004,
            10655.638181818182,
            48680.737727272724,
            12628.923181818182,
            11092.817272727274,
            9659.074999999999,
            10228.658181818182,
            1788.2195454545456,
            35068.99681818182,
            26895.50409090909,
            1279.7427272727273,
            42945.692727272726,
            10568.710454545455,
            40253.612727272724,
            null,
            3330.5990909090906,
            13814.427272727275,
            41003.09909090909,
            9713.79,
            4330.764545454545,
            1764.038181818182,
            2033.7613636363637,
            1526.219090909091,
            20258.124545454546,
            29649.749545454546,
            7433.364090909091,
            10731.932727272726,
            4432.038181818181,
            23148.921818181818,
            2818.214090909091,
            25304.075909090912,
            8759.526818181817,
            4391.483636363636,
            61824.01545454546,
            13755.064545454545,
            8347.119545454545,
            46968.93363636364,
            33361.62545454546,
            38948.80818181818,
            9189.699545454547,
            9657.458181818183,
            39411.005454545455,
            19065.897727272728,
            3474.884090909091,
            3700.2613636363635,
            2797.906818181818,
            1900.7931818181817,
            23489.04,
            33403.65727272727,
            51147.13636363636,
            4889.094545454545,
            14795.161363636364,
            1180.2645454545454,
            29949.084545454545,
            13496.612727272726,
            null,
            9706.03409090909,
            2572.764090909091,
            24419.843181818185,
            106355.82681818181,
            22005.989545454548,
            null,
            6199.422727272727,
            null,
            6520.983181818182,
            1557.0618181818181,
            16041.063636363637,
            17516.452272727274,
            3953.9254545454546,
            12051.565,
            1874.5949999999998,
            32587.13409090909,
            3232.487727272727,
            14594.199090909091,
            8190.279545454545,
            null,
            1060.8745454545453,
            4055.755,
            null,
            null,
            16457.80272727273,
            907.3772727272727,
            21236.874545454546,
            null,
            8922.844545454545,
            null,
            1061.104090909091,
            4445.121363636364,
            4555.7468181818185,
            null,
            49399.52909090908,
            59420.66636363636,
            8691.753333333334,
            35295.69227272727,
            38138.840454545454,
            3838.912272727273,
            20178.194545454546,
            9492.935454545453,
            6156.304999999999,
            15166.58090909091,
            3226.9386363636363,
            23384.022272727274,
            32963.218636363636,
            30164.11409090909,
            10858.70409090909,
            91001.22681818182,
            19291.46363636364,
            21867.215909090908,
            1452.8277272727273,
            44874.31909090909,
            4953.1504545454545,
            2938.0445454545456,
            103119.8668181818,
            null,
            2256.3954545454544,
            1472.6190909090908,
            7159.828181818182,
            66225.46954545454,
            996.1963636363636,
            null,
            13017.237272727274,
            1485.0728571428572,
            3382.7436363636366,
            14922.157727272726,
            25963.502272727274,
            31150.051363636365,
            46125.402727272725,
            7648.953181818182,
            37834.062,
            20798.30681818182,
            1595.3318181818183,
            21782.84909090909,
            1491.4581818181819,
            1276.2454545454545,
            13771.397272727272,
            2640.339090909091,
            null,
            9843.943636363636,
            2673.0845454545456,
            5318.590454545455,
            23091.212727272727,
            9555.603636363636,
            21785.743636363637,
            3696.4740909090906,
            1950.0790909090908,
            1884.2509090909093,
            10381.161363636364,
            16952.844545454547,
            54487.387272727276,
            5410.369090909091,
            11559.82,
            20594.46363636364,
            null,
            null,
            6375.392727272728,
            2798.628181818182,
            null,
            5373.420454545455,
            3162.222727272727,
            11695.595454545455,
            2904.625909090909,
            2390.3745454545456
           ]
          },
          {
           "label": "Basic water avalability",
           "range": [
            34.04859292162611,
            99
           ],
           "values": [
            96.82276573024274,
            49.26560487826784,
            50.09476115075393,
            97.04459308807134,
            91.14989397908333,
            99,
            99,
            98.11997549483297,
            97.7559929439496,
            98.8970307087185,
            97.2440459082861,
            99,
            99,
            85.68786869883053,
            56.56229442398816,
            99,
            63.947540008673926,
            98.6875364573206,
            53.05740352022268,
            96.32733476725264,
            99,
            99,
            98.64259292152148,
            96.63206275074776,
            99,
            97.64873482140922,
            93.70215394472137,
            99,
            87.05153857524003,
            96.43209333935403,
            98.4239613900523,
            99,
            91.83453339833684,
            83.02964098396876,
            47.79862092253132,
            99,
            99,
            97.96903591093691,
            88.02506826499094,
            71.19977380792004,
            61.90235681660562,
            39.689158312488566,
            65.7816433459589,
            99,
            94.73562105144696,
            84.22227534969782,
            83.24869739242715,
            97.56942007628847,
            94.7361345344655,
            98.95470486541316,
            96.125,
            99,
            99,
            99,
            75.67064273317267,
            94.8909103708381,
            99,
            94.18558474114027,
            92.246114998614,
            89.36494509091514,
            98.61212504617416,
            49.82302600125929,
            99,
            99,
            34.04859292162611,
            99,
            94.29607330892948,
            99,
            99,
            87.16878973897549,
            83.0283306912878,
            99,
            95.30999060131705,
            74.64201442325617,
            60.67365751997737,
            77.42875551881085,
            57.92467256053059,
            59.45774892970547,
            99,
            90.26128909799796,
            92.45059146869077,
            90.60032474851955,
            98.67831702151757,
            62.0290058893454,
            99,
            84.21272122834122,
            85.61133130944839,
            97.30822539983023,
            95.95349250869477,
            89.74775720599993,
            99,
            99,
            99,
            91.72135233728201,
            98.98834640173989,
            98.73494182338477,
            93.38048742738629,
            54.584984638206095,
            85.42619482118721,
            63.83856331879722,
            69.17120934141894,
            98.55786744718345,
            98.85819714752634,
            99,
            67.34695119163572,
            89.42044422473607,
            69.23683223708765,
            92.6790991266798,
            93.49769409638323,
            99,
            86.62003567648742,
            69.08866677043888,
            94.20330329786043,
            99,
            98.27021368242428,
            99,
            76.56018162665777,
            99,
            86.68527033233956,
            44.53541332911494,
            97.03133235153742,
            95.4007141391388,
            88.09595997421684,
            97.22891458830748,
            66.04956962446255,
            99,
            64.5487429013079,
            96.45503088983223,
            74.98244002604244,
            98.41812210107,
            40.601262367773515,
            57.576643619749035,
            98.06415850062554,
            99,
            99,
            62.0717052376031,
            97.00742242052637,
            97.08157354446155,
            80.44659875484655,
            96.98716634170003,
            42.847364513462736,
            60.10717879994276,
            81.08695626932943,
            98.22406576651862,
            99,
            99,
            97.97735815276835,
            99,
            88.27294977660009,
            88.72759504556163,
            91.95423340381441,
            87.12354899282097,
            89.9706599364381,
            99,
            38.06588066383837,
            98.4874762845536,
            98.44169784161494,
            98.94004983703475,
            89.53816876573039,
            99,
            99,
            96.08576861307023,
            53.228073740640326,
            98.46704652720749,
            51.89023078018322,
            72.21190573306913,
            99,
            98.72619047619048,
            73.39278547309743,
            51.815726767558665,
            89.1330729933553,
            99,
            40.1616875356223,
            91.4,
            91.70076781009651,
            41.14541273580941,
            74.0766068960203,
            93.54278210550983,
            98.50473826592885,
            99,
            99,
            62.17357529968909,
            95.72029078195621,
            95.34642825085196,
            92.88426562648885,
            91.52272727272724,
            42.78006000467515,
            57.50540076695312,
            97.2589115777889,
            69.55418561322578,
            98.8404002835404,
            93.90283190029166,
            65.5139608906348,
            98.38378545999805,
            95.8967549322532,
            92.65185886178203,
            95.34855902024142,
            98.45351082411847,
            44.182842024041584,
            40.56436519061151,
            95.55161191776104,
            98.20507935052893,
            98.93271001520742,
            94.19426680095839,
            94.43329479532522,
            95.4567493089194,
            98.05397912589699,
            98.71830259242068,
            88.89340027637199,
            86.48869589227004,
            99,
            90.218087665623,
            50.40178997577521,
            89.46723236888462,
            56.97436981408296,
            67.53574986544139
           ]
          },
          {
           "label": "% Renewable energy",
           "range": [
            0,
            99.14
           ],
           "values": [
            null,
            null,
            58.07,
            null,
            33.88,
            null,
            0.68,
            8.1,
            7.09,
            null,
            null,
            8.35,
            30.8,
            1.13,
            null,
            8.86,
            53.43,
            null,
            null,
            18.03,
            13.97,
            0,
            null,
            24.38,
            null,
            7.19,
            null,
            null,
            17.73,
            44.17,
            null,
            0,
            null,
            21,
            null,
            16.11,
            24.36,
            24.58,
            10.01,
            63.57,
            75.02,
            97.42,
            53.3,
            null,
            29.06,
            null,
            null,
            51.5,
            17.49,
            2.56,
            null,
            10.76,
            12.04,
            15.64,
            null,
            null,
            40.41,
            13.7,
            0.12,
            19.56,
            6.21,
            78.85,
            16.67,
            30.59,
            90.27,
            38.84,
            null,
            11.64,
            null,
            null,
            76.08,
            12.59,
            19.5,
            40.84,
            null,
            null,
            null,
            3.99,
            16.55,
            65.53,
            5.33,
            49.69,
            26.44,
            79.98,
            11.32,
            26.75,
            25.4,
            11.5,
            0.75,
            1.04,
            88.89,
            5.07,
            18.52,
            10.05,
            8.04,
            7.07,
            1.68,
            81.24,
            31.83,
            44.87,
            null,
            null,
            2.13,
            0.12,
            75.64,
            4.27,
            null,
            3.73,
            null,
            null,
            40.38,
            null,
            23.37,
            11.39,
            42.46,
            null,
            9.42,
            null,
            17.62,
            89.96,
            null,
            9.22,
            null,
            14.07,
            null,
            6.21,
            51.73,
            29.47,
            3.76,
            null,
            83.6,
            null,
            null,
            null,
            14.04,
            null,
            3.89,
            null,
            28.79,
            null,
            76.66,
            76.11,
            58.37,
            null,
            10.63,
            50.94,
            null,
            39.65,
            0.04,
            37.9,
            25.72,
            28.76,
            35.77,
            null,
            null,
            11.8,
            null,
            29.43,
            99.14,
            0.02,
            18.63,
            2.69,
            90.93,
            0.03,
            67.26,
            43.53,
            1.22,
            null,
            null,
            null,
            50.32,
            null,
            null,
            null,
            15.82,
            25.44,
            null,
            10.33,
            11.69,
            17.51,
            45.9,
            63,
            null,
            null,
            0.83,
            null,
            null,
            83.28,
            18.12,
            42.56,
            null,
            0.04,
            null,
            null,
            0.09,
            11.52,
            15.24,
            null,
            83.17,
            90.27,
            5.64,
            59.56,
            8,
            0.96,
            null,
            23,
            null,
            null,
            15.09,
            null,
            null,
            null,
            6.05,
            6.21,
            81.8,
            77.33
           ]
          },
          {
           "label": "Loss forest area since 2000",
           "range": [
            0,
            43.629999999999995
           ],
           "values": [
            10.04,
            2.17,
            1.195,
            0.45499999999999996,
            1.99,
            0.59,
            7.595,
            2.785,
            7.73,
            0,
            1.135,
            0.9199999999999999,
            2.65,
            5.92,
            7.265000000000001,
            4.0649999999999995,
            5.955,
            null,
            14.815000000000001,
            8.99,
            2.895,
            4.625,
            0.47,
            5.630000000000001,
            null,
            5.54,
            5.085,
            0,
            4.369999999999999,
            5.905,
            6.805,
            1.38,
            0.42500000000000004,
            0.775,
            0.44999999999999996,
            0.515,
            2.5300000000000002,
            1.225,
            3.57,
            5.6850000000000005,
            1.67,
            2.025,
            1.31,
            0,
            1.615,
            1.75,
            0.27,
            3.19,
            1.425,
            null,
            1.8399999999999999,
            2.085,
            3.7699999999999996,
            3.59,
            3.59,
            0.08,
            4.67,
            2.385,
            11.925,
            1.32,
            3.4050000000000002,
            1.88,
            5.07,
            7.09,
            1.3050000000000002,
            2.48,
            2.395,
            2.25,
            0.07,
            0,
            1.3199999999999998,
            3.16,
            2.06,
            5.615,
            1.6400000000000001,
            9.195,
            4.1000000000000005,
            2.5700000000000003,
            1.92,
            13.64,
            1.1150000000000002,
            4.654999999999999,
            6.115,
            1.22,
            2.63,
            6.74,
            4.105,
            1.075,
            19.085,
            43.629999999999995,
            0.02,
            7.945,
            5.02,
            7.0649999999999995,
            9.48,
            4.205,
            7.235,
            1.405,
            2.95,
            11.475,
            0,
            2.5100000000000002,
            14.075,
            42.325,
            3.045,
            3.6300000000000003,
            15.434999999999999,
            3.2199999999999998,
            0.5599999999999999,
            4.15,
            7.1850000000000005,
            2.685,
            3.9450000000000003,
            3.4299999999999997,
            6.3149999999999995,
            null,
            4.13,
            null,
            1.33,
            2.37,
            0,
            1.885,
            0,
            2.34,
            8.27,
            14.865,
            2.79,
            2.6550000000000002,
            2.85,
            0,
            2.955,
            4.6899999999999995,
            0.355,
            null,
            27.715,
            33.26,
            9.32,
            null,
            0.9550000000000001,
            3.17,
            3.1799999999999997,
            12.125,
            8.98,
            0,
            4.59,
            1.395,
            0,
            0.74,
            3.43,
            3.325,
            3.795,
            1.555,
            7.205,
            5.9,
            3.55,
            2.815,
            3.075,
            6.595,
            6.735,
            7.324999999999999,
            1.835,
            0.8799999999999999,
            10.455,
            5.165,
            7.125,
            1.8,
            37.945,
            0.025,
            0.42000000000000004,
            5.955,
            0.67,
            0,
            1.19,
            0.25,
            2.365,
            1.29,
            1.57,
            0.865,
            2.4699999999999998,
            5.14,
            2.33,
            10.75,
            null,
            0.095,
            18.215,
            0.5900000000000001,
            4.720000000000001,
            5.869999999999999,
            4.925,
            2.0949999999999998,
            0,
            1.69,
            4.835,
            0,
            2.505,
            20.909999999999997,
            4.404999999999999,
            0,
            3.475,
            3.4050000000000002,
            3.725,
            0.7250000000000001,
            1.545,
            2.7750000000000004,
            0.225,
            1.085,
            5.265,
            12.295,
            7.945,
            0.085,
            0,
            0,
            2.495,
            1.4300000000000002,
            2.385,
            3.8850000000000002
           ]
          }
         ],
         "type": "parcoords"
        }
       ],
       "layout": {
        "paper_bgcolor": "white",
        "plot_bgcolor": "white",
        "template": {
         "data": {
          "bar": [
           {
            "error_x": {
             "color": "#2a3f5f"
            },
            "error_y": {
             "color": "#2a3f5f"
            },
            "marker": {
             "line": {
              "color": "#E5ECF6",
              "width": 0.5
             },
             "pattern": {
              "fillmode": "overlay",
              "size": 10,
              "solidity": 0.2
             }
            },
            "type": "bar"
           }
          ],
          "barpolar": [
           {
            "marker": {
             "line": {
              "color": "#E5ECF6",
              "width": 0.5
             },
             "pattern": {
              "fillmode": "overlay",
              "size": 10,
              "solidity": 0.2
             }
            },
            "type": "barpolar"
           }
          ],
          "carpet": [
           {
            "aaxis": {
             "endlinecolor": "#2a3f5f",
             "gridcolor": "white",
             "linecolor": "white",
             "minorgridcolor": "white",
             "startlinecolor": "#2a3f5f"
            },
            "baxis": {
             "endlinecolor": "#2a3f5f",
             "gridcolor": "white",
             "linecolor": "white",
             "minorgridcolor": "white",
             "startlinecolor": "#2a3f5f"
            },
            "type": "carpet"
           }
          ],
          "choropleth": [
           {
            "colorbar": {
             "outlinewidth": 0,
             "ticks": ""
            },
            "type": "choropleth"
           }
          ],
          "contour": [
           {
            "colorbar": {
             "outlinewidth": 0,
             "ticks": ""
            },
            "colorscale": [
             [
              0,
              "#0d0887"
             ],
             [
              0.1111111111111111,
              "#46039f"
             ],
             [
              0.2222222222222222,
              "#7201a8"
             ],
             [
              0.3333333333333333,
              "#9c179e"
             ],
             [
              0.4444444444444444,
              "#bd3786"
             ],
             [
              0.5555555555555556,
              "#d8576b"
             ],
             [
              0.6666666666666666,
              "#ed7953"
             ],
             [
              0.7777777777777778,
              "#fb9f3a"
             ],
             [
              0.8888888888888888,
              "#fdca26"
             ],
             [
              1,
              "#f0f921"
             ]
            ],
            "type": "contour"
           }
          ],
          "contourcarpet": [
           {
            "colorbar": {
             "outlinewidth": 0,
             "ticks": ""
            },
            "type": "contourcarpet"
           }
          ],
          "heatmap": [
           {
            "colorbar": {
             "outlinewidth": 0,
             "ticks": ""
            },
            "colorscale": [
             [
              0,
              "#0d0887"
             ],
             [
              0.1111111111111111,
              "#46039f"
             ],
             [
              0.2222222222222222,
              "#7201a8"
             ],
             [
              0.3333333333333333,
              "#9c179e"
             ],
             [
              0.4444444444444444,
              "#bd3786"
             ],
             [
              0.5555555555555556,
              "#d8576b"
             ],
             [
              0.6666666666666666,
              "#ed7953"
             ],
             [
              0.7777777777777778,
              "#fb9f3a"
             ],
             [
              0.8888888888888888,
              "#fdca26"
             ],
             [
              1,
              "#f0f921"
             ]
            ],
            "type": "heatmap"
           }
          ],
          "heatmapgl": [
           {
            "colorbar": {
             "outlinewidth": 0,
             "ticks": ""
            },
            "colorscale": [
             [
              0,
              "#0d0887"
             ],
             [
              0.1111111111111111,
              "#46039f"
             ],
             [
              0.2222222222222222,
              "#7201a8"
             ],
             [
              0.3333333333333333,
              "#9c179e"
             ],
             [
              0.4444444444444444,
              "#bd3786"
             ],
             [
              0.5555555555555556,
              "#d8576b"
             ],
             [
              0.6666666666666666,
              "#ed7953"
             ],
             [
              0.7777777777777778,
              "#fb9f3a"
             ],
             [
              0.8888888888888888,
              "#fdca26"
             ],
             [
              1,
              "#f0f921"
             ]
            ],
            "type": "heatmapgl"
           }
          ],
          "histogram": [
           {
            "marker": {
             "pattern": {
              "fillmode": "overlay",
              "size": 10,
              "solidity": 0.2
             }
            },
            "type": "histogram"
           }
          ],
          "histogram2d": [
           {
            "colorbar": {
             "outlinewidth": 0,
             "ticks": ""
            },
            "colorscale": [
             [
              0,
              "#0d0887"
             ],
             [
              0.1111111111111111,
              "#46039f"
             ],
             [
              0.2222222222222222,
              "#7201a8"
             ],
             [
              0.3333333333333333,
              "#9c179e"
             ],
             [
              0.4444444444444444,
              "#bd3786"
             ],
             [
              0.5555555555555556,
              "#d8576b"
             ],
             [
              0.6666666666666666,
              "#ed7953"
             ],
             [
              0.7777777777777778,
              "#fb9f3a"
             ],
             [
              0.8888888888888888,
              "#fdca26"
             ],
             [
              1,
              "#f0f921"
             ]
            ],
            "type": "histogram2d"
           }
          ],
          "histogram2dcontour": [
           {
            "colorbar": {
             "outlinewidth": 0,
             "ticks": ""
            },
            "colorscale": [
             [
              0,
              "#0d0887"
             ],
             [
              0.1111111111111111,
              "#46039f"
             ],
             [
              0.2222222222222222,
              "#7201a8"
             ],
             [
              0.3333333333333333,
              "#9c179e"
             ],
             [
              0.4444444444444444,
              "#bd3786"
             ],
             [
              0.5555555555555556,
              "#d8576b"
             ],
             [
              0.6666666666666666,
              "#ed7953"
             ],
             [
              0.7777777777777778,
              "#fb9f3a"
             ],
             [
              0.8888888888888888,
              "#fdca26"
             ],
             [
              1,
              "#f0f921"
             ]
            ],
            "type": "histogram2dcontour"
           }
          ],
          "mesh3d": [
           {
            "colorbar": {
             "outlinewidth": 0,
             "ticks": ""
            },
            "type": "mesh3d"
           }
          ],
          "parcoords": [
           {
            "line": {
             "colorbar": {
              "outlinewidth": 0,
              "ticks": ""
             }
            },
            "type": "parcoords"
           }
          ],
          "pie": [
           {
            "automargin": true,
            "type": "pie"
           }
          ],
          "scatter": [
           {
            "fillpattern": {
             "fillmode": "overlay",
             "size": 10,
             "solidity": 0.2
            },
            "type": "scatter"
           }
          ],
          "scatter3d": [
           {
            "line": {
             "colorbar": {
              "outlinewidth": 0,
              "ticks": ""
             }
            },
            "marker": {
             "colorbar": {
              "outlinewidth": 0,
              "ticks": ""
             }
            },
            "type": "scatter3d"
           }
          ],
          "scattercarpet": [
           {
            "marker": {
             "colorbar": {
              "outlinewidth": 0,
              "ticks": ""
             }
            },
            "type": "scattercarpet"
           }
          ],
          "scattergeo": [
           {
            "marker": {
             "colorbar": {
              "outlinewidth": 0,
              "ticks": ""
             }
            },
            "type": "scattergeo"
           }
          ],
          "scattergl": [
           {
            "marker": {
             "colorbar": {
              "outlinewidth": 0,
              "ticks": ""
             }
            },
            "type": "scattergl"
           }
          ],
          "scattermapbox": [
           {
            "marker": {
             "colorbar": {
              "outlinewidth": 0,
              "ticks": ""
             }
            },
            "type": "scattermapbox"
           }
          ],
          "scatterpolar": [
           {
            "marker": {
             "colorbar": {
              "outlinewidth": 0,
              "ticks": ""
             }
            },
            "type": "scatterpolar"
           }
          ],
          "scatterpolargl": [
           {
            "marker": {
             "colorbar": {
              "outlinewidth": 0,
              "ticks": ""
             }
            },
            "type": "scatterpolargl"
           }
          ],
          "scatterternary": [
           {
            "marker": {
             "colorbar": {
              "outlinewidth": 0,
              "ticks": ""
             }
            },
            "type": "scatterternary"
           }
          ],
          "surface": [
           {
            "colorbar": {
             "outlinewidth": 0,
             "ticks": ""
            },
            "colorscale": [
             [
              0,
              "#0d0887"
             ],
             [
              0.1111111111111111,
              "#46039f"
             ],
             [
              0.2222222222222222,
              "#7201a8"
             ],
             [
              0.3333333333333333,
              "#9c179e"
             ],
             [
              0.4444444444444444,
              "#bd3786"
             ],
             [
              0.5555555555555556,
              "#d8576b"
             ],
             [
              0.6666666666666666,
              "#ed7953"
             ],
             [
              0.7777777777777778,
              "#fb9f3a"
             ],
             [
              0.8888888888888888,
              "#fdca26"
             ],
             [
              1,
              "#f0f921"
             ]
            ],
            "type": "surface"
           }
          ],
          "table": [
           {
            "cells": {
             "fill": {
              "color": "#EBF0F8"
             },
             "line": {
              "color": "white"
             }
            },
            "header": {
             "fill": {
              "color": "#C8D4E3"
             },
             "line": {
              "color": "white"
             }
            },
            "type": "table"
           }
          ]
         },
         "layout": {
          "annotationdefaults": {
           "arrowcolor": "#2a3f5f",
           "arrowhead": 0,
           "arrowwidth": 1
          },
          "autotypenumbers": "strict",
          "coloraxis": {
           "colorbar": {
            "outlinewidth": 0,
            "ticks": ""
           }
          },
          "colorscale": {
           "diverging": [
            [
             0,
             "#8e0152"
            ],
            [
             0.1,
             "#c51b7d"
            ],
            [
             0.2,
             "#de77ae"
            ],
            [
             0.3,
             "#f1b6da"
            ],
            [
             0.4,
             "#fde0ef"
            ],
            [
             0.5,
             "#f7f7f7"
            ],
            [
             0.6,
             "#e6f5d0"
            ],
            [
             0.7,
             "#b8e186"
            ],
            [
             0.8,
             "#7fbc41"
            ],
            [
             0.9,
             "#4d9221"
            ],
            [
             1,
             "#276419"
            ]
           ],
           "sequential": [
            [
             0,
             "#0d0887"
            ],
            [
             0.1111111111111111,
             "#46039f"
            ],
            [
             0.2222222222222222,
             "#7201a8"
            ],
            [
             0.3333333333333333,
             "#9c179e"
            ],
            [
             0.4444444444444444,
             "#bd3786"
            ],
            [
             0.5555555555555556,
             "#d8576b"
            ],
            [
             0.6666666666666666,
             "#ed7953"
            ],
            [
             0.7777777777777778,
             "#fb9f3a"
            ],
            [
             0.8888888888888888,
             "#fdca26"
            ],
            [
             1,
             "#f0f921"
            ]
           ],
           "sequentialminus": [
            [
             0,
             "#0d0887"
            ],
            [
             0.1111111111111111,
             "#46039f"
            ],
            [
             0.2222222222222222,
             "#7201a8"
            ],
            [
             0.3333333333333333,
             "#9c179e"
            ],
            [
             0.4444444444444444,
             "#bd3786"
            ],
            [
             0.5555555555555556,
             "#d8576b"
            ],
            [
             0.6666666666666666,
             "#ed7953"
            ],
            [
             0.7777777777777778,
             "#fb9f3a"
            ],
            [
             0.8888888888888888,
             "#fdca26"
            ],
            [
             1,
             "#f0f921"
            ]
           ]
          },
          "colorway": [
           "#636efa",
           "#EF553B",
           "#00cc96",
           "#ab63fa",
           "#FFA15A",
           "#19d3f3",
           "#FF6692",
           "#B6E880",
           "#FF97FF",
           "#FECB52"
          ],
          "font": {
           "color": "#2a3f5f"
          },
          "geo": {
           "bgcolor": "white",
           "lakecolor": "white",
           "landcolor": "#E5ECF6",
           "showlakes": true,
           "showland": true,
           "subunitcolor": "white"
          },
          "hoverlabel": {
           "align": "left"
          },
          "hovermode": "closest",
          "mapbox": {
           "style": "light"
          },
          "paper_bgcolor": "white",
          "plot_bgcolor": "#E5ECF6",
          "polar": {
           "angularaxis": {
            "gridcolor": "white",
            "linecolor": "white",
            "ticks": ""
           },
           "bgcolor": "#E5ECF6",
           "radialaxis": {
            "gridcolor": "white",
            "linecolor": "white",
            "ticks": ""
           }
          },
          "scene": {
           "xaxis": {
            "backgroundcolor": "#E5ECF6",
            "gridcolor": "white",
            "gridwidth": 2,
            "linecolor": "white",
            "showbackground": true,
            "ticks": "",
            "zerolinecolor": "white"
           },
           "yaxis": {
            "backgroundcolor": "#E5ECF6",
            "gridcolor": "white",
            "gridwidth": 2,
            "linecolor": "white",
            "showbackground": true,
            "ticks": "",
            "zerolinecolor": "white"
           },
           "zaxis": {
            "backgroundcolor": "#E5ECF6",
            "gridcolor": "white",
            "gridwidth": 2,
            "linecolor": "white",
            "showbackground": true,
            "ticks": "",
            "zerolinecolor": "white"
           }
          },
          "shapedefaults": {
           "line": {
            "color": "#2a3f5f"
           }
          },
          "ternary": {
           "aaxis": {
            "gridcolor": "white",
            "linecolor": "white",
            "ticks": ""
           },
           "baxis": {
            "gridcolor": "white",
            "linecolor": "white",
            "ticks": ""
           },
           "bgcolor": "#E5ECF6",
           "caxis": {
            "gridcolor": "white",
            "linecolor": "white",
            "ticks": ""
           }
          },
          "title": {
           "x": 0.05
          },
          "xaxis": {
           "automargin": true,
           "gridcolor": "white",
           "linecolor": "white",
           "ticks": "",
           "title": {
            "standoff": 15
           },
           "zerolinecolor": "white",
           "zerolinewidth": 2
          },
          "yaxis": {
           "automargin": true,
           "gridcolor": "white",
           "linecolor": "white",
           "ticks": "",
           "title": {
            "standoff": 15
           },
           "zerolinecolor": "white",
           "zerolinewidth": 2
          }
         }
        },
        "title": {
         "text": "Parallel Plot"
        }
       }
      }
     },
     "metadata": {},
     "output_type": "display_data"
    }
   ],
   "source": [
    "\n",
    "data = [\n",
    "    go.Parcoords(\n",
    "        #line = dict(color = merged_data['ISO3'], colorscale = 'Jet', showscale = True),\n",
    "        dimensions = [\n",
    "            dict(range = [merged_data['GDP'].min(), merged_data['GDP'].max()],\n",
    "                 label = 'GDP',\n",
    "                 values = merged_data['GDP']),\n",
    "            dict(range = [merged_data['Basic'].min(), merged_data['Basic'].max()],\n",
    "                 label = 'Basic water avalability',\n",
    "                 values = merged_data['Basic']),\n",
    "            dict(range = [merged_data['Last Value'].min(), merged_data['Last Value'].max()],\n",
    "                 label = '% Renewable energy',\n",
    "                 values = merged_data['Last Value']),\n",
    "            dict(range = [merged_data['Loss'].min(), merged_data['Loss'].max()],\n",
    "                 label = 'Loss forest area since 2000',\n",
    "                 values = merged_data['Loss'])\n",
    "        ]\n",
    "    )\n",
    "]\n",
    "\n",
    "# Define the layout of the parallel plot\n",
    "layout = go.Layout(\n",
    "    title = 'Parallel Plot',\n",
    "    plot_bgcolor = 'white',\n",
    "    paper_bgcolor = 'white'\n",
    ")\n",
    "\n",
    "# Create the figure and display the parallel plot\n",
    "fig = go.Figure(data=data, layout=layout)\n",
    "fig.show()"
   ]
  },
  {
   "cell_type": "code",
   "execution_count": 190,
   "metadata": {},
   "outputs": [],
   "source": [
    "merged_data['GDP_Bins'] = pd.cut(merged_data['GDP'], bins=5)\n",
    "\n",
    "#print(merged_data[ 'GDP_Bins'])\n"
   ]
  },
  {
   "cell_type": "code",
   "execution_count": 191,
   "metadata": {},
   "outputs": [],
   "source": [
    "import pandas as pd\n",
    "\n",
    "\n",
    "# Exclude non-numeric columns\n",
    "numeric_columns = merged_data.select_dtypes(include=[np.number]).columns\n",
    "\n",
    "# Group by the GDP bins and calculate the average for each dimension\n",
    "averages = merged_data.groupby('GDP_Bins')[numeric_columns].mean()\n",
    "\n",
    "# Reset the index to make the GDP bins a column again\n",
    "averages = averages.reset_index()\n",
    "\n",
    "# Print the resulting averages DataFrame\n",
    "#print(averages)\n"
   ]
  },
  {
   "cell_type": "code",
   "execution_count": 192,
   "metadata": {},
   "outputs": [
    {
     "data": {
      "application/vnd.plotly.v1+json": {
       "config": {
        "plotlyServerURL": "https://plot.ly"
       },
       "data": [
        {
         "dimensions": [
          {
           "label": "GDP",
           "values": [
            8114.409464418076,
            31964.345730113637,
            50402.923920454545,
            71549.42086363636,
            100158.97348484847
           ]
          },
          {
           "label": "Basic",
           "values": [
            79.24974141314635,
            97.92706127449048,
            98.85674887139032,
            98.425,
            99
           ]
          },
          {
           "label": "Last Value",
           "values": [
            35.40546391752577,
            15.736296296296295,
            22.962,
            0.34,
            4.21
           ]
          },
          {
           "label": "Loss",
           "values": [
            4.717374100719424,
            4.5488333333333335,
            5.1303125000000005,
            2.163,
            16.233333333333334
           ]
          }
         ],
         "domain": {
          "x": [
           0,
           1
          ],
          "y": [
           0,
           1
          ]
         },
         "name": "",
         "type": "parcoords"
        }
       ],
       "layout": {
        "legend": {
         "tracegroupgap": 0
        },
        "margin": {
         "t": 60
        },
        "template": {
         "data": {
          "bar": [
           {
            "error_x": {
             "color": "#2a3f5f"
            },
            "error_y": {
             "color": "#2a3f5f"
            },
            "marker": {
             "line": {
              "color": "#E5ECF6",
              "width": 0.5
             },
             "pattern": {
              "fillmode": "overlay",
              "size": 10,
              "solidity": 0.2
             }
            },
            "type": "bar"
           }
          ],
          "barpolar": [
           {
            "marker": {
             "line": {
              "color": "#E5ECF6",
              "width": 0.5
             },
             "pattern": {
              "fillmode": "overlay",
              "size": 10,
              "solidity": 0.2
             }
            },
            "type": "barpolar"
           }
          ],
          "carpet": [
           {
            "aaxis": {
             "endlinecolor": "#2a3f5f",
             "gridcolor": "white",
             "linecolor": "white",
             "minorgridcolor": "white",
             "startlinecolor": "#2a3f5f"
            },
            "baxis": {
             "endlinecolor": "#2a3f5f",
             "gridcolor": "white",
             "linecolor": "white",
             "minorgridcolor": "white",
             "startlinecolor": "#2a3f5f"
            },
            "type": "carpet"
           }
          ],
          "choropleth": [
           {
            "colorbar": {
             "outlinewidth": 0,
             "ticks": ""
            },
            "type": "choropleth"
           }
          ],
          "contour": [
           {
            "colorbar": {
             "outlinewidth": 0,
             "ticks": ""
            },
            "colorscale": [
             [
              0,
              "#0d0887"
             ],
             [
              0.1111111111111111,
              "#46039f"
             ],
             [
              0.2222222222222222,
              "#7201a8"
             ],
             [
              0.3333333333333333,
              "#9c179e"
             ],
             [
              0.4444444444444444,
              "#bd3786"
             ],
             [
              0.5555555555555556,
              "#d8576b"
             ],
             [
              0.6666666666666666,
              "#ed7953"
             ],
             [
              0.7777777777777778,
              "#fb9f3a"
             ],
             [
              0.8888888888888888,
              "#fdca26"
             ],
             [
              1,
              "#f0f921"
             ]
            ],
            "type": "contour"
           }
          ],
          "contourcarpet": [
           {
            "colorbar": {
             "outlinewidth": 0,
             "ticks": ""
            },
            "type": "contourcarpet"
           }
          ],
          "heatmap": [
           {
            "colorbar": {
             "outlinewidth": 0,
             "ticks": ""
            },
            "colorscale": [
             [
              0,
              "#0d0887"
             ],
             [
              0.1111111111111111,
              "#46039f"
             ],
             [
              0.2222222222222222,
              "#7201a8"
             ],
             [
              0.3333333333333333,
              "#9c179e"
             ],
             [
              0.4444444444444444,
              "#bd3786"
             ],
             [
              0.5555555555555556,
              "#d8576b"
             ],
             [
              0.6666666666666666,
              "#ed7953"
             ],
             [
              0.7777777777777778,
              "#fb9f3a"
             ],
             [
              0.8888888888888888,
              "#fdca26"
             ],
             [
              1,
              "#f0f921"
             ]
            ],
            "type": "heatmap"
           }
          ],
          "heatmapgl": [
           {
            "colorbar": {
             "outlinewidth": 0,
             "ticks": ""
            },
            "colorscale": [
             [
              0,
              "#0d0887"
             ],
             [
              0.1111111111111111,
              "#46039f"
             ],
             [
              0.2222222222222222,
              "#7201a8"
             ],
             [
              0.3333333333333333,
              "#9c179e"
             ],
             [
              0.4444444444444444,
              "#bd3786"
             ],
             [
              0.5555555555555556,
              "#d8576b"
             ],
             [
              0.6666666666666666,
              "#ed7953"
             ],
             [
              0.7777777777777778,
              "#fb9f3a"
             ],
             [
              0.8888888888888888,
              "#fdca26"
             ],
             [
              1,
              "#f0f921"
             ]
            ],
            "type": "heatmapgl"
           }
          ],
          "histogram": [
           {
            "marker": {
             "pattern": {
              "fillmode": "overlay",
              "size": 10,
              "solidity": 0.2
             }
            },
            "type": "histogram"
           }
          ],
          "histogram2d": [
           {
            "colorbar": {
             "outlinewidth": 0,
             "ticks": ""
            },
            "colorscale": [
             [
              0,
              "#0d0887"
             ],
             [
              0.1111111111111111,
              "#46039f"
             ],
             [
              0.2222222222222222,
              "#7201a8"
             ],
             [
              0.3333333333333333,
              "#9c179e"
             ],
             [
              0.4444444444444444,
              "#bd3786"
             ],
             [
              0.5555555555555556,
              "#d8576b"
             ],
             [
              0.6666666666666666,
              "#ed7953"
             ],
             [
              0.7777777777777778,
              "#fb9f3a"
             ],
             [
              0.8888888888888888,
              "#fdca26"
             ],
             [
              1,
              "#f0f921"
             ]
            ],
            "type": "histogram2d"
           }
          ],
          "histogram2dcontour": [
           {
            "colorbar": {
             "outlinewidth": 0,
             "ticks": ""
            },
            "colorscale": [
             [
              0,
              "#0d0887"
             ],
             [
              0.1111111111111111,
              "#46039f"
             ],
             [
              0.2222222222222222,
              "#7201a8"
             ],
             [
              0.3333333333333333,
              "#9c179e"
             ],
             [
              0.4444444444444444,
              "#bd3786"
             ],
             [
              0.5555555555555556,
              "#d8576b"
             ],
             [
              0.6666666666666666,
              "#ed7953"
             ],
             [
              0.7777777777777778,
              "#fb9f3a"
             ],
             [
              0.8888888888888888,
              "#fdca26"
             ],
             [
              1,
              "#f0f921"
             ]
            ],
            "type": "histogram2dcontour"
           }
          ],
          "mesh3d": [
           {
            "colorbar": {
             "outlinewidth": 0,
             "ticks": ""
            },
            "type": "mesh3d"
           }
          ],
          "parcoords": [
           {
            "line": {
             "colorbar": {
              "outlinewidth": 0,
              "ticks": ""
             }
            },
            "type": "parcoords"
           }
          ],
          "pie": [
           {
            "automargin": true,
            "type": "pie"
           }
          ],
          "scatter": [
           {
            "fillpattern": {
             "fillmode": "overlay",
             "size": 10,
             "solidity": 0.2
            },
            "type": "scatter"
           }
          ],
          "scatter3d": [
           {
            "line": {
             "colorbar": {
              "outlinewidth": 0,
              "ticks": ""
             }
            },
            "marker": {
             "colorbar": {
              "outlinewidth": 0,
              "ticks": ""
             }
            },
            "type": "scatter3d"
           }
          ],
          "scattercarpet": [
           {
            "marker": {
             "colorbar": {
              "outlinewidth": 0,
              "ticks": ""
             }
            },
            "type": "scattercarpet"
           }
          ],
          "scattergeo": [
           {
            "marker": {
             "colorbar": {
              "outlinewidth": 0,
              "ticks": ""
             }
            },
            "type": "scattergeo"
           }
          ],
          "scattergl": [
           {
            "marker": {
             "colorbar": {
              "outlinewidth": 0,
              "ticks": ""
             }
            },
            "type": "scattergl"
           }
          ],
          "scattermapbox": [
           {
            "marker": {
             "colorbar": {
              "outlinewidth": 0,
              "ticks": ""
             }
            },
            "type": "scattermapbox"
           }
          ],
          "scatterpolar": [
           {
            "marker": {
             "colorbar": {
              "outlinewidth": 0,
              "ticks": ""
             }
            },
            "type": "scatterpolar"
           }
          ],
          "scatterpolargl": [
           {
            "marker": {
             "colorbar": {
              "outlinewidth": 0,
              "ticks": ""
             }
            },
            "type": "scatterpolargl"
           }
          ],
          "scatterternary": [
           {
            "marker": {
             "colorbar": {
              "outlinewidth": 0,
              "ticks": ""
             }
            },
            "type": "scatterternary"
           }
          ],
          "surface": [
           {
            "colorbar": {
             "outlinewidth": 0,
             "ticks": ""
            },
            "colorscale": [
             [
              0,
              "#0d0887"
             ],
             [
              0.1111111111111111,
              "#46039f"
             ],
             [
              0.2222222222222222,
              "#7201a8"
             ],
             [
              0.3333333333333333,
              "#9c179e"
             ],
             [
              0.4444444444444444,
              "#bd3786"
             ],
             [
              0.5555555555555556,
              "#d8576b"
             ],
             [
              0.6666666666666666,
              "#ed7953"
             ],
             [
              0.7777777777777778,
              "#fb9f3a"
             ],
             [
              0.8888888888888888,
              "#fdca26"
             ],
             [
              1,
              "#f0f921"
             ]
            ],
            "type": "surface"
           }
          ],
          "table": [
           {
            "cells": {
             "fill": {
              "color": "#EBF0F8"
             },
             "line": {
              "color": "white"
             }
            },
            "header": {
             "fill": {
              "color": "#C8D4E3"
             },
             "line": {
              "color": "white"
             }
            },
            "type": "table"
           }
          ]
         },
         "layout": {
          "annotationdefaults": {
           "arrowcolor": "#2a3f5f",
           "arrowhead": 0,
           "arrowwidth": 1
          },
          "autotypenumbers": "strict",
          "coloraxis": {
           "colorbar": {
            "outlinewidth": 0,
            "ticks": ""
           }
          },
          "colorscale": {
           "diverging": [
            [
             0,
             "#8e0152"
            ],
            [
             0.1,
             "#c51b7d"
            ],
            [
             0.2,
             "#de77ae"
            ],
            [
             0.3,
             "#f1b6da"
            ],
            [
             0.4,
             "#fde0ef"
            ],
            [
             0.5,
             "#f7f7f7"
            ],
            [
             0.6,
             "#e6f5d0"
            ],
            [
             0.7,
             "#b8e186"
            ],
            [
             0.8,
             "#7fbc41"
            ],
            [
             0.9,
             "#4d9221"
            ],
            [
             1,
             "#276419"
            ]
           ],
           "sequential": [
            [
             0,
             "#0d0887"
            ],
            [
             0.1111111111111111,
             "#46039f"
            ],
            [
             0.2222222222222222,
             "#7201a8"
            ],
            [
             0.3333333333333333,
             "#9c179e"
            ],
            [
             0.4444444444444444,
             "#bd3786"
            ],
            [
             0.5555555555555556,
             "#d8576b"
            ],
            [
             0.6666666666666666,
             "#ed7953"
            ],
            [
             0.7777777777777778,
             "#fb9f3a"
            ],
            [
             0.8888888888888888,
             "#fdca26"
            ],
            [
             1,
             "#f0f921"
            ]
           ],
           "sequentialminus": [
            [
             0,
             "#0d0887"
            ],
            [
             0.1111111111111111,
             "#46039f"
            ],
            [
             0.2222222222222222,
             "#7201a8"
            ],
            [
             0.3333333333333333,
             "#9c179e"
            ],
            [
             0.4444444444444444,
             "#bd3786"
            ],
            [
             0.5555555555555556,
             "#d8576b"
            ],
            [
             0.6666666666666666,
             "#ed7953"
            ],
            [
             0.7777777777777778,
             "#fb9f3a"
            ],
            [
             0.8888888888888888,
             "#fdca26"
            ],
            [
             1,
             "#f0f921"
            ]
           ]
          },
          "colorway": [
           "#636efa",
           "#EF553B",
           "#00cc96",
           "#ab63fa",
           "#FFA15A",
           "#19d3f3",
           "#FF6692",
           "#B6E880",
           "#FF97FF",
           "#FECB52"
          ],
          "font": {
           "color": "#2a3f5f"
          },
          "geo": {
           "bgcolor": "white",
           "lakecolor": "white",
           "landcolor": "#E5ECF6",
           "showlakes": true,
           "showland": true,
           "subunitcolor": "white"
          },
          "hoverlabel": {
           "align": "left"
          },
          "hovermode": "closest",
          "mapbox": {
           "style": "light"
          },
          "paper_bgcolor": "white",
          "plot_bgcolor": "#E5ECF6",
          "polar": {
           "angularaxis": {
            "gridcolor": "white",
            "linecolor": "white",
            "ticks": ""
           },
           "bgcolor": "#E5ECF6",
           "radialaxis": {
            "gridcolor": "white",
            "linecolor": "white",
            "ticks": ""
           }
          },
          "scene": {
           "xaxis": {
            "backgroundcolor": "#E5ECF6",
            "gridcolor": "white",
            "gridwidth": 2,
            "linecolor": "white",
            "showbackground": true,
            "ticks": "",
            "zerolinecolor": "white"
           },
           "yaxis": {
            "backgroundcolor": "#E5ECF6",
            "gridcolor": "white",
            "gridwidth": 2,
            "linecolor": "white",
            "showbackground": true,
            "ticks": "",
            "zerolinecolor": "white"
           },
           "zaxis": {
            "backgroundcolor": "#E5ECF6",
            "gridcolor": "white",
            "gridwidth": 2,
            "linecolor": "white",
            "showbackground": true,
            "ticks": "",
            "zerolinecolor": "white"
           }
          },
          "shapedefaults": {
           "line": {
            "color": "#2a3f5f"
           }
          },
          "ternary": {
           "aaxis": {
            "gridcolor": "white",
            "linecolor": "white",
            "ticks": ""
           },
           "baxis": {
            "gridcolor": "white",
            "linecolor": "white",
            "ticks": ""
           },
           "bgcolor": "#E5ECF6",
           "caxis": {
            "gridcolor": "white",
            "linecolor": "white",
            "ticks": ""
           }
          },
          "title": {
           "x": 0.05
          },
          "xaxis": {
           "automargin": true,
           "gridcolor": "white",
           "linecolor": "white",
           "ticks": "",
           "title": {
            "standoff": 15
           },
           "zerolinecolor": "white",
           "zerolinewidth": 2
          },
          "yaxis": {
           "automargin": true,
           "gridcolor": "white",
           "linecolor": "white",
           "ticks": "",
           "title": {
            "standoff": 15
           },
           "zerolinecolor": "white",
           "zerolinewidth": 2
          }
         }
        },
        "title": {
         "text": "Average Value for Each Dimension within GDP Bins"
        },
        "xaxis": {
         "title": {
          "text": "Dimensions"
         }
        },
        "yaxis": {
         "title": {
          "text": "Average Value"
         }
        }
       }
      }
     },
     "metadata": {},
     "output_type": "display_data"
    }
   ],
   "source": [
    "import plotly.express as px\n",
    "\n",
    "# Prepare the data for parallel coordinates plot\n",
    "plot_data = averages[['GDP', 'Basic', 'Last Value', 'Loss']].reset_index(drop=True)\n",
    "\n",
    "# Create the parallel coordinates plot using Plotly\n",
    "fig = px.parallel_coordinates(plot_data)\n",
    "\n",
    "# Update layout\n",
    "fig.update_layout(\n",
    "    title='Average Value for Each Dimension within GDP Bins',\n",
    "    xaxis_title='Dimensions',\n",
    "    yaxis_title='Average Value'\n",
    ")\n",
    "\n",
    "# Show the plot\n",
    "fig.show()\n",
    "\n",
    "\n"
   ]
  },
  {
   "attachments": {},
   "cell_type": "markdown",
   "metadata": {},
   "source": [
    "import pandas as pd\n",
    "\n",
    "# Exclude non-numeric columns\n",
    "numeric_columns = merged_data.select_dtypes(include=[np.number]).columns\n",
    "\n",
    "# Group by the GDP bins and calculate the average for each dimension\n",
    "averages = merged_data.groupby(pd.cut(merged_data['GDP'], bins=[0, 20, 40, 60, 80, 110], right=False))[numeric_columns].mean()\n",
    "\n",
    "# Reset the index to make the GDP bins a column again\n",
    "averages = averages.reset_index()\n",
    "\n",
    "# Rename the GDP bin column\n",
    "averages.rename(columns={'GDP': 'GDP_Bins'}, inplace=True)\n",
    "\n",
    "# Print the resulting averages DataFrame\n",
    "print(averages)\n"
   ]
  },
  {
   "attachments": {},
   "cell_type": "markdown",
   "metadata": {},
   "source": [
    "import pandas as pd\n",
    "\n",
    "merged_data['GDP_Bins'] = pd.cut(merged_data['GDP'], bins=[0, 20000, 40000, 60000, 80000, 110000], right=False)\n",
    "cutgdp, _= pd.cut(merged_data['GDP'], bins=[0, 20000, 40000, 60000, 80000, 110000], retbins=True)\n",
    "# cutqhisto, cutqscheid = pd.qcut(tips_df['tip'], q=3, labels=['Low', 'Medium', 'High'], retbins=True)\n",
    "# Exclude non-numeric columns\n",
    "numeric_columns = merged_data.select_dtypes(include=[np.number]).columns\n",
    "\n",
    "# Group by the GDP bins and calculate the average for each dimension\n",
    "averages = merged_data.groupby('GDP_Bins')[numeric_columns].mean()\n",
    "\n",
    "# Reset the index to make the GDP bins a column again\n",
    "averages = averages.reset_index()\n",
    "\n",
    "# Print the resulting averages DataFrame\n",
    "# print(averages)\n",
    "\n",
    "# print(cutgdp)"
   ]
  },
  {
   "cell_type": "code",
   "execution_count": 167,
   "metadata": {},
   "outputs": [
    {
     "data": {
      "application/vnd.plotly.v1+json": {
       "config": {
        "plotlyServerURL": "https://plot.ly"
       },
       "data": [
        {
         "dimensions": [
          {
           "label": "GDP",
           "values": [
            7124.282266451894,
            28015.94783971292,
            47154.83914141414,
            67056.01003787878,
            95167.79784090909
           ]
          },
          {
           "label": "Basic",
           "values": [
            78.30662200592818,
            96.10067838016589,
            98.96665314124527,
            98.2388708999717,
            99
           ]
          },
          {
           "label": "Last Value",
           "values": [
            37.13677777777778,
            14.590666666666667,
            22.808823529411764,
            9.135,
            4.21
           ]
          },
          {
           "label": "Loss",
           "values": [
            4.886937984496123,
            4.26,
            4.826944444444445,
            2.4033333333333333,
            12.175
           ]
          }
         ],
         "domain": {
          "x": [
           0,
           1
          ],
          "y": [
           0,
           1
          ]
         },
         "name": "",
         "type": "parcoords"
        }
       ],
       "layout": {
        "legend": {
         "tracegroupgap": 0
        },
        "margin": {
         "t": 60
        },
        "template": {
         "data": {
          "bar": [
           {
            "error_x": {
             "color": "#2a3f5f"
            },
            "error_y": {
             "color": "#2a3f5f"
            },
            "marker": {
             "line": {
              "color": "#E5ECF6",
              "width": 0.5
             },
             "pattern": {
              "fillmode": "overlay",
              "size": 10,
              "solidity": 0.2
             }
            },
            "type": "bar"
           }
          ],
          "barpolar": [
           {
            "marker": {
             "line": {
              "color": "#E5ECF6",
              "width": 0.5
             },
             "pattern": {
              "fillmode": "overlay",
              "size": 10,
              "solidity": 0.2
             }
            },
            "type": "barpolar"
           }
          ],
          "carpet": [
           {
            "aaxis": {
             "endlinecolor": "#2a3f5f",
             "gridcolor": "white",
             "linecolor": "white",
             "minorgridcolor": "white",
             "startlinecolor": "#2a3f5f"
            },
            "baxis": {
             "endlinecolor": "#2a3f5f",
             "gridcolor": "white",
             "linecolor": "white",
             "minorgridcolor": "white",
             "startlinecolor": "#2a3f5f"
            },
            "type": "carpet"
           }
          ],
          "choropleth": [
           {
            "colorbar": {
             "outlinewidth": 0,
             "ticks": ""
            },
            "type": "choropleth"
           }
          ],
          "contour": [
           {
            "colorbar": {
             "outlinewidth": 0,
             "ticks": ""
            },
            "colorscale": [
             [
              0,
              "#0d0887"
             ],
             [
              0.1111111111111111,
              "#46039f"
             ],
             [
              0.2222222222222222,
              "#7201a8"
             ],
             [
              0.3333333333333333,
              "#9c179e"
             ],
             [
              0.4444444444444444,
              "#bd3786"
             ],
             [
              0.5555555555555556,
              "#d8576b"
             ],
             [
              0.6666666666666666,
              "#ed7953"
             ],
             [
              0.7777777777777778,
              "#fb9f3a"
             ],
             [
              0.8888888888888888,
              "#fdca26"
             ],
             [
              1,
              "#f0f921"
             ]
            ],
            "type": "contour"
           }
          ],
          "contourcarpet": [
           {
            "colorbar": {
             "outlinewidth": 0,
             "ticks": ""
            },
            "type": "contourcarpet"
           }
          ],
          "heatmap": [
           {
            "colorbar": {
             "outlinewidth": 0,
             "ticks": ""
            },
            "colorscale": [
             [
              0,
              "#0d0887"
             ],
             [
              0.1111111111111111,
              "#46039f"
             ],
             [
              0.2222222222222222,
              "#7201a8"
             ],
             [
              0.3333333333333333,
              "#9c179e"
             ],
             [
              0.4444444444444444,
              "#bd3786"
             ],
             [
              0.5555555555555556,
              "#d8576b"
             ],
             [
              0.6666666666666666,
              "#ed7953"
             ],
             [
              0.7777777777777778,
              "#fb9f3a"
             ],
             [
              0.8888888888888888,
              "#fdca26"
             ],
             [
              1,
              "#f0f921"
             ]
            ],
            "type": "heatmap"
           }
          ],
          "heatmapgl": [
           {
            "colorbar": {
             "outlinewidth": 0,
             "ticks": ""
            },
            "colorscale": [
             [
              0,
              "#0d0887"
             ],
             [
              0.1111111111111111,
              "#46039f"
             ],
             [
              0.2222222222222222,
              "#7201a8"
             ],
             [
              0.3333333333333333,
              "#9c179e"
             ],
             [
              0.4444444444444444,
              "#bd3786"
             ],
             [
              0.5555555555555556,
              "#d8576b"
             ],
             [
              0.6666666666666666,
              "#ed7953"
             ],
             [
              0.7777777777777778,
              "#fb9f3a"
             ],
             [
              0.8888888888888888,
              "#fdca26"
             ],
             [
              1,
              "#f0f921"
             ]
            ],
            "type": "heatmapgl"
           }
          ],
          "histogram": [
           {
            "marker": {
             "pattern": {
              "fillmode": "overlay",
              "size": 10,
              "solidity": 0.2
             }
            },
            "type": "histogram"
           }
          ],
          "histogram2d": [
           {
            "colorbar": {
             "outlinewidth": 0,
             "ticks": ""
            },
            "colorscale": [
             [
              0,
              "#0d0887"
             ],
             [
              0.1111111111111111,
              "#46039f"
             ],
             [
              0.2222222222222222,
              "#7201a8"
             ],
             [
              0.3333333333333333,
              "#9c179e"
             ],
             [
              0.4444444444444444,
              "#bd3786"
             ],
             [
              0.5555555555555556,
              "#d8576b"
             ],
             [
              0.6666666666666666,
              "#ed7953"
             ],
             [
              0.7777777777777778,
              "#fb9f3a"
             ],
             [
              0.8888888888888888,
              "#fdca26"
             ],
             [
              1,
              "#f0f921"
             ]
            ],
            "type": "histogram2d"
           }
          ],
          "histogram2dcontour": [
           {
            "colorbar": {
             "outlinewidth": 0,
             "ticks": ""
            },
            "colorscale": [
             [
              0,
              "#0d0887"
             ],
             [
              0.1111111111111111,
              "#46039f"
             ],
             [
              0.2222222222222222,
              "#7201a8"
             ],
             [
              0.3333333333333333,
              "#9c179e"
             ],
             [
              0.4444444444444444,
              "#bd3786"
             ],
             [
              0.5555555555555556,
              "#d8576b"
             ],
             [
              0.6666666666666666,
              "#ed7953"
             ],
             [
              0.7777777777777778,
              "#fb9f3a"
             ],
             [
              0.8888888888888888,
              "#fdca26"
             ],
             [
              1,
              "#f0f921"
             ]
            ],
            "type": "histogram2dcontour"
           }
          ],
          "mesh3d": [
           {
            "colorbar": {
             "outlinewidth": 0,
             "ticks": ""
            },
            "type": "mesh3d"
           }
          ],
          "parcoords": [
           {
            "line": {
             "colorbar": {
              "outlinewidth": 0,
              "ticks": ""
             }
            },
            "type": "parcoords"
           }
          ],
          "pie": [
           {
            "automargin": true,
            "type": "pie"
           }
          ],
          "scatter": [
           {
            "fillpattern": {
             "fillmode": "overlay",
             "size": 10,
             "solidity": 0.2
            },
            "type": "scatter"
           }
          ],
          "scatter3d": [
           {
            "line": {
             "colorbar": {
              "outlinewidth": 0,
              "ticks": ""
             }
            },
            "marker": {
             "colorbar": {
              "outlinewidth": 0,
              "ticks": ""
             }
            },
            "type": "scatter3d"
           }
          ],
          "scattercarpet": [
           {
            "marker": {
             "colorbar": {
              "outlinewidth": 0,
              "ticks": ""
             }
            },
            "type": "scattercarpet"
           }
          ],
          "scattergeo": [
           {
            "marker": {
             "colorbar": {
              "outlinewidth": 0,
              "ticks": ""
             }
            },
            "type": "scattergeo"
           }
          ],
          "scattergl": [
           {
            "marker": {
             "colorbar": {
              "outlinewidth": 0,
              "ticks": ""
             }
            },
            "type": "scattergl"
           }
          ],
          "scattermapbox": [
           {
            "marker": {
             "colorbar": {
              "outlinewidth": 0,
              "ticks": ""
             }
            },
            "type": "scattermapbox"
           }
          ],
          "scatterpolar": [
           {
            "marker": {
             "colorbar": {
              "outlinewidth": 0,
              "ticks": ""
             }
            },
            "type": "scatterpolar"
           }
          ],
          "scatterpolargl": [
           {
            "marker": {
             "colorbar": {
              "outlinewidth": 0,
              "ticks": ""
             }
            },
            "type": "scatterpolargl"
           }
          ],
          "scatterternary": [
           {
            "marker": {
             "colorbar": {
              "outlinewidth": 0,
              "ticks": ""
             }
            },
            "type": "scatterternary"
           }
          ],
          "surface": [
           {
            "colorbar": {
             "outlinewidth": 0,
             "ticks": ""
            },
            "colorscale": [
             [
              0,
              "#0d0887"
             ],
             [
              0.1111111111111111,
              "#46039f"
             ],
             [
              0.2222222222222222,
              "#7201a8"
             ],
             [
              0.3333333333333333,
              "#9c179e"
             ],
             [
              0.4444444444444444,
              "#bd3786"
             ],
             [
              0.5555555555555556,
              "#d8576b"
             ],
             [
              0.6666666666666666,
              "#ed7953"
             ],
             [
              0.7777777777777778,
              "#fb9f3a"
             ],
             [
              0.8888888888888888,
              "#fdca26"
             ],
             [
              1,
              "#f0f921"
             ]
            ],
            "type": "surface"
           }
          ],
          "table": [
           {
            "cells": {
             "fill": {
              "color": "#EBF0F8"
             },
             "line": {
              "color": "white"
             }
            },
            "header": {
             "fill": {
              "color": "#C8D4E3"
             },
             "line": {
              "color": "white"
             }
            },
            "type": "table"
           }
          ]
         },
         "layout": {
          "annotationdefaults": {
           "arrowcolor": "#2a3f5f",
           "arrowhead": 0,
           "arrowwidth": 1
          },
          "autotypenumbers": "strict",
          "coloraxis": {
           "colorbar": {
            "outlinewidth": 0,
            "ticks": ""
           }
          },
          "colorscale": {
           "diverging": [
            [
             0,
             "#8e0152"
            ],
            [
             0.1,
             "#c51b7d"
            ],
            [
             0.2,
             "#de77ae"
            ],
            [
             0.3,
             "#f1b6da"
            ],
            [
             0.4,
             "#fde0ef"
            ],
            [
             0.5,
             "#f7f7f7"
            ],
            [
             0.6,
             "#e6f5d0"
            ],
            [
             0.7,
             "#b8e186"
            ],
            [
             0.8,
             "#7fbc41"
            ],
            [
             0.9,
             "#4d9221"
            ],
            [
             1,
             "#276419"
            ]
           ],
           "sequential": [
            [
             0,
             "#0d0887"
            ],
            [
             0.1111111111111111,
             "#46039f"
            ],
            [
             0.2222222222222222,
             "#7201a8"
            ],
            [
             0.3333333333333333,
             "#9c179e"
            ],
            [
             0.4444444444444444,
             "#bd3786"
            ],
            [
             0.5555555555555556,
             "#d8576b"
            ],
            [
             0.6666666666666666,
             "#ed7953"
            ],
            [
             0.7777777777777778,
             "#fb9f3a"
            ],
            [
             0.8888888888888888,
             "#fdca26"
            ],
            [
             1,
             "#f0f921"
            ]
           ],
           "sequentialminus": [
            [
             0,
             "#0d0887"
            ],
            [
             0.1111111111111111,
             "#46039f"
            ],
            [
             0.2222222222222222,
             "#7201a8"
            ],
            [
             0.3333333333333333,
             "#9c179e"
            ],
            [
             0.4444444444444444,
             "#bd3786"
            ],
            [
             0.5555555555555556,
             "#d8576b"
            ],
            [
             0.6666666666666666,
             "#ed7953"
            ],
            [
             0.7777777777777778,
             "#fb9f3a"
            ],
            [
             0.8888888888888888,
             "#fdca26"
            ],
            [
             1,
             "#f0f921"
            ]
           ]
          },
          "colorway": [
           "#636efa",
           "#EF553B",
           "#00cc96",
           "#ab63fa",
           "#FFA15A",
           "#19d3f3",
           "#FF6692",
           "#B6E880",
           "#FF97FF",
           "#FECB52"
          ],
          "font": {
           "color": "#2a3f5f"
          },
          "geo": {
           "bgcolor": "white",
           "lakecolor": "white",
           "landcolor": "#E5ECF6",
           "showlakes": true,
           "showland": true,
           "subunitcolor": "white"
          },
          "hoverlabel": {
           "align": "left"
          },
          "hovermode": "closest",
          "mapbox": {
           "style": "light"
          },
          "paper_bgcolor": "white",
          "plot_bgcolor": "#E5ECF6",
          "polar": {
           "angularaxis": {
            "gridcolor": "white",
            "linecolor": "white",
            "ticks": ""
           },
           "bgcolor": "#E5ECF6",
           "radialaxis": {
            "gridcolor": "white",
            "linecolor": "white",
            "ticks": ""
           }
          },
          "scene": {
           "xaxis": {
            "backgroundcolor": "#E5ECF6",
            "gridcolor": "white",
            "gridwidth": 2,
            "linecolor": "white",
            "showbackground": true,
            "ticks": "",
            "zerolinecolor": "white"
           },
           "yaxis": {
            "backgroundcolor": "#E5ECF6",
            "gridcolor": "white",
            "gridwidth": 2,
            "linecolor": "white",
            "showbackground": true,
            "ticks": "",
            "zerolinecolor": "white"
           },
           "zaxis": {
            "backgroundcolor": "#E5ECF6",
            "gridcolor": "white",
            "gridwidth": 2,
            "linecolor": "white",
            "showbackground": true,
            "ticks": "",
            "zerolinecolor": "white"
           }
          },
          "shapedefaults": {
           "line": {
            "color": "#2a3f5f"
           }
          },
          "ternary": {
           "aaxis": {
            "gridcolor": "white",
            "linecolor": "white",
            "ticks": ""
           },
           "baxis": {
            "gridcolor": "white",
            "linecolor": "white",
            "ticks": ""
           },
           "bgcolor": "#E5ECF6",
           "caxis": {
            "gridcolor": "white",
            "linecolor": "white",
            "ticks": ""
           }
          },
          "title": {
           "x": 0.05
          },
          "xaxis": {
           "automargin": true,
           "gridcolor": "white",
           "linecolor": "white",
           "ticks": "",
           "title": {
            "standoff": 15
           },
           "zerolinecolor": "white",
           "zerolinewidth": 2
          },
          "yaxis": {
           "automargin": true,
           "gridcolor": "white",
           "linecolor": "white",
           "ticks": "",
           "title": {
            "standoff": 15
           },
           "zerolinecolor": "white",
           "zerolinewidth": 2
          }
         }
        },
        "title": {
         "text": "Average Value for Each Dimension within GDP Bins"
        },
        "xaxis": {
         "title": {
          "text": "Dimensions"
         }
        },
        "yaxis": {
         "title": {
          "text": "Average Value"
         }
        }
       }
      }
     },
     "metadata": {},
     "output_type": "display_data"
    }
   ],
   "source": [
    "import plotly.express as px\n",
    "\n",
    "# Prepare the data for parallel coordinates plot\n",
    "plot_data = averages[['GDP', 'Basic', 'Last Value', 'Loss']].reset_index(drop=True)\n",
    "\n",
    "# Create the parallel coordinates plot using Plotly\n",
    "fig = px.parallel_coordinates(plot_data)\n",
    "\n",
    "# Update layout\n",
    "fig.update_layout(\n",
    "    title='Average Value for Each Dimension within GDP Bins',\n",
    "    xaxis_title='Dimensions',\n",
    "    yaxis_title='Average Value'\n",
    ")\n",
    "\n",
    "# Show the plot\n",
    "fig.show()\n",
    "\n"
   ]
  },
  {
   "attachments": {},
   "cell_type": "markdown",
   "metadata": {},
   "source": [
    "tips_df = pd.read_csv('https://raw.githubusercontent.com/pandas-dev/pandas/main/pandas/tests/io/data/csv/tips.csv')\n",
    "\n",
    "\n",
    "cutqhisto, cutqscheid = pd.qcut(tips_df['tip'], q=3, labels=['Low', 'Medium', 'High'], retbins=True)\n",
    "\n",
    "\n",
    "\n",
    "fig = go.Figure(data=go.Parcats(dimensions=[\n",
    "        {'label': 'Tip',\n",
    "         'values': cutqhisto,\n",
    "         'categoryorder': 'category descending'\n",
    "        },\n",
    "        {'label': 'Sex',\n",
    "         'values': tips_df['sex'],\n",
    "         'categoryorder': 'category ascending'},\n",
    "        {'label': 'Smoker',\n",
    "         'values': tips_df['smoker']},\n",
    "        {'label': 'Day',\n",
    "         'values': tips_df['day']},\n",
    "        {'label': 'Time',\n",
    "         'values': tips_df['time']},\n",
    "        {'label': 'Size',\n",
    "         'values': tips_df['size'],\n",
    "        'categoryorder': 'category ascending'},\n",
    "        ],\n",
    "         line=dict(color=cutqhisto.map(colors))\n",
    "                               ))\n",
    "\n",
    "    \n",
    "fig.update_layout(\n",
    "       title='Variables leading to tip size'\n",
    "    \n",
    ")\n",
    "\n",
    "fig.show()\n",
    "\n",
    "tips_df = pd.read_csv('https://raw.githubusercontent.com/pandas-dev/pandas/main/pandas/tests/io/data/csv/tips.csv')\n",
    "\n",
    "\n",
    "cutqhisto, cutqscheid = pd.qcut(tips_df['tip'], q=3, labels=['Low', 'Medium', 'High'], retbins=True)\n"
   ]
  },
  {
   "attachments": {},
   "cell_type": "markdown",
   "metadata": {},
   "source": [
    "\n",
    "\n",
    "\n",
    "fig = go.Figure(data=go.Parcats(dimensions=[\n",
    "        {'label': 'Tip',\n",
    "         'values': cutgdp,\n",
    "         'categoryorder': 'category descending'\n",
    "        },\n",
    "        {'label': 'Sex',\n",
    "         'values': merged_data['Basic'],\n",
    "         'categoryorder': 'category ascending'},\n",
    "        {'label': 'Smoker',\n",
    "         'values': merged_data['Last Value']},\n",
    "        {'label': 'Day',\n",
    "         'values': merged_data['Loss']},\n",
    "        ]))\n",
    "         #line=dict(color=cutqhisto.map(colors))\n",
    "    \n",
    "fig.update_layout(\n",
    "       title='Variables leading to tip size'\n",
    "    \n",
    ")\n",
    "\n",
    "fig.show()"
   ]
  },
  {
   "attachments": {},
   "cell_type": "markdown",
   "metadata": {},
   "source": [
    "import plotly.graph_objects as go\n",
    "\n",
    "cutgdp, _ = pd.qcut(merged_data['GDP'], q=3, labels=['Low', 'Medium', 'High'], retbins=True)\n",
    "\n",
    "# cutqhisto, cutqscheid = pd.qcut(tips_df['tip'], q=3, labels=['Low', 'Medium', 'High'], retbins=True)\n",
    "# # Convert cutgdp to categorical type with string labels\n",
    "# cutgdp = pd.cut(merged_data['GDP'], bins=[0, 20000, 40000, 60000, 80000, 110000], labels=['0-20', '20-40', '40-60', '60-80', '80-110'])\n",
    "\n",
    "fig = go.Figure(data=go.Parcats(dimensions=[\n",
    "        {'values': cutgdp,\n",
    "         'categoryorder': 'category descending'\n",
    "        },\n",
    "        {\n",
    "         'values': merged_data['Basic'],\n",
    "         'categoryorder': 'category ascending'},\n",
    "        {'label': 'Smoker',\n",
    "         'values': merged_data['Last Value']},\n",
    "        {'label': 'Day',\n",
    "         'values': merged_data['Loss']},\n",
    "    ]))\n",
    "\n",
    "fig.update_layout(\n",
    "       title='Variables leading to tip size',\n",
    "       autosize=False,\n",
    "       width=1000,\n",
    "       height=1000\n",
    ")\n",
    "\n",
    "fig.show()\n"
   ]
  },
  {
   "cell_type": "code",
   "execution_count": null,
   "metadata": {},
   "outputs": [],
   "source": []
  }
 ],
 "metadata": {
  "kernelspec": {
   "display_name": "Python 3",
   "language": "python",
   "name": "python3"
  },
  "language_info": {
   "codemirror_mode": {
    "name": "ipython",
    "version": 3
   },
   "file_extension": ".py",
   "mimetype": "text/x-python",
   "name": "python",
   "nbconvert_exporter": "python",
   "pygments_lexer": "ipython3",
   "version": "3.11.3"
  }
 },
 "nbformat": 4,
 "nbformat_minor": 2
}