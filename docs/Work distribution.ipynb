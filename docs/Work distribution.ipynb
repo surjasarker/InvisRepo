{
 "cells": [
  {
   "attachments": {},
   "cell_type": "markdown",
   "metadata": {},
   "source": [
    "# Work distribution\n",
    "Every part of this research has been touched by all group members. Everything has been discussed together, from the brainstorming to preprocessing to creating the figures. \n",
    "That being said, some parts have been worked on more by certain members, hereby an overview:\n",
    "\n",
    "## Ruben:\n",
    "1. Arguments 1 and 2\n",
    "2. Introduction\n",
    "3. Rewriting and connecting the texts between arguments\n",
    "## Surja:\n",
    "1. Preprocessing the Green, Infra, Inno and MEI datasets\n",
    "2. Argument 4\n",
    "3. Argument 5\n",
    "\n",
    "\n",
    "## Olivier:\n",
    "1. Preprocessing the Water dataset\n",
    "2. Argument 3\n",
    "3. Managing the site\n",
    "4. Argument 5"
   ]
  },
  {
   "attachments": {},
   "cell_type": "markdown",
   "metadata": {},
   "source": []
  }
 ],
 "metadata": {
  "language_info": {
   "name": "python"
  },
  "orig_nbformat": 4
 },
 "nbformat": 4,
 "nbformat_minor": 2
}
