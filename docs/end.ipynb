{
 "cells": [
  {
   "attachments": {},
   "cell_type": "markdown",
   "metadata": {},
   "source": [
    "# End\n",
    "For more specific information about our research, preprocessing and original datasets feel free to visit the Github repository:\n",
    "https://github.com/olivierstam4/Informatievisualisatie\n",
    "\n",
    "The original datasets can be found here: https://github.com/olivierstam4/Informatievisualisatie/tree/main/docs/Original%20datasets\n",
    "The research and preprocessing can be found here: https://github.com/olivierstam4/Informatievisualisatie/tree/main/docs/preprocess-research"
   ]
  },
  {
   "cell_type": "code",
   "execution_count": null,
   "metadata": {},
   "outputs": [],
   "source": []
  }
 ],
 "metadata": {
  "kernelspec": {
   "display_name": "Python 3",
   "language": "python",
   "name": "python3"
  },
  "language_info": {
   "codemirror_mode": {
    "name": "ipython",
    "version": 3
   },
   "file_extension": ".py",
   "mimetype": "text/x-python",
   "name": "python",
   "nbconvert_exporter": "python",
   "pygments_lexer": "ipython3",
   "version": "3.10.6"
  },
  "orig_nbformat": 4
 },
 "nbformat": 4,
 "nbformat_minor": 2
}
