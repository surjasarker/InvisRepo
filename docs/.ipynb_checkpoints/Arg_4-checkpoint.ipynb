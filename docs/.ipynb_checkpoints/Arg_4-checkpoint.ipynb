{
 "cells": [
  {
   "cell_type": "markdown",
   "id": "8bce4abb",
   "metadata": {},
   "source": [
    "# The Industrial increase of Developing Countries\n",
    "It may be difficult to see a direct correlation between a countries wealth and their rates of pollution. This may be because countries with high GDP have companies that work their factories in developing nations.\n"
   ]
  },
  {
   "cell_type": "code",
   "execution_count": 1,
   "id": "2cc9c0ad",
   "metadata": {
    "ExecuteTime": {
     "end_time": "2023-06-28T12:02:40.666225870Z",
     "start_time": "2023-06-28T12:02:40.395818894Z"
    },
    "tags": [
     "hide_cell"
    ]
   },
   "outputs": [
    {
     "name": "stdout",
     "output_type": "stream",
     "text": [
      "no stored variable or alias figgdp\n"
     ]
    },
    {
     "ename": "NameError",
     "evalue": "name 'figgdp' is not defined",
     "output_type": "error",
     "traceback": [
      "\u001b[0;31m---------------------------------------------------------------------------\u001b[0m",
      "\u001b[0;31mNameError\u001b[0m                                 Traceback (most recent call last)",
      "Cell \u001b[0;32mIn[1], line 3\u001b[0m\n\u001b[1;32m      1\u001b[0m get_ipython()\u001b[38;5;241m.\u001b[39mrun_line_magic(\u001b[38;5;124m'\u001b[39m\u001b[38;5;124mstore\u001b[39m\u001b[38;5;124m'\u001b[39m, \u001b[38;5;124m'\u001b[39m\u001b[38;5;124m-r figgdp\u001b[39m\u001b[38;5;124m'\u001b[39m)\n\u001b[0;32m----> 3\u001b[0m \u001b[43mfiggdp\u001b[49m\u001b[38;5;241m.\u001b[39mshow()\n",
      "\u001b[0;31mNameError\u001b[0m: name 'figgdp' is not defined"
     ]
    }
   ],
   "source": [
    "%store -r figgdp\n",
    "\n",
    "figgdp.show()"
   ]
  },
  {
   "cell_type": "markdown",
   "id": "411553b2",
   "metadata": {},
   "source": [
    "In this graph we see that 20 years ago countries with a low GDP(Gross Domestic Product) had less industrial productions. Countries with medium or high GDP both had high amounts of industry. These countries saw very little growth over the next 15 years, In contrast the lower GDP countries had lots of industrial improvements. Around 2016 The low GDP countries even overtook the production of total industry of the high GDP countries. A possible reason for this is that it became more expensive to do industrial tasks in higher GDP countries so companies chose to build their factories in lower GDP countries.\n",
    "\n",
    "While this could be benifitial for these developing nations in terms of income, the fact is that at face value their polution rates will be much higher that the countries which contain the countries that pollute."
   ]
  },
  {
   "cell_type": "markdown",
   "id": "f8e9f8f3",
   "metadata": {},
   "source": []
  },
  {
   "cell_type": "code",
   "execution_count": null,
   "id": "459ada64",
   "metadata": {},
   "outputs": [],
   "source": []
  },
  {
   "cell_type": "code",
   "execution_count": null,
   "id": "1b50621a",
   "metadata": {},
   "outputs": [],
   "source": []
  }
 ],
 "metadata": {
  "celltoolbar": "Tags",
  "kernelspec": {
   "display_name": "Python 3 (ipykernel)",
   "language": "python",
   "name": "python3"
  },
  "language_info": {
   "codemirror_mode": {
    "name": "ipython",
    "version": 3
   },
   "file_extension": ".py",
   "mimetype": "text/x-python",
   "name": "python",
   "nbconvert_exporter": "python",
   "pygments_lexer": "ipython3",
   "version": "3.10.6"
  }
 },
 "nbformat": 4,
 "nbformat_minor": 5
}
