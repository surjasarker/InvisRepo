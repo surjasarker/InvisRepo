{
 "cells": [
  {
   "cell_type": "markdown",
   "id": "8bce4abb",
   "metadata": {},
   "source": [
    "# The Industrial increase of Developing Countries\n",
    "Countries with high and low GDP both contribute a lot to the carbon emissions we want to reduce. According to a 2020 paper on Environmental pollution by Prince O. Ukaogo, Ugochukwu Ewuzie and Chibuzo V. Onwuka [1]: \"Both developed and developing nations share this burden together, though awareness and stricter laws in developed countries have contributed to a larger extent in protecting their environment.\". What this paper fails to bring into account is the fact that companies from first world countries may be directly contributing to the pollution of third world countries by moving their industrial plans to these countries for a cost benifit.\n",
    "\n",
    "\n",
    "[1] : Prince O. Ukaogo, Ugochukwu Ewuzie, Chibuzo V. Onwuka. (2020). Environmental pollution: causes, effects, and the remedies. Microorganisms for Sustainable Environment and Health.  \n",
    "link:https://www.sciencedirect.com/science/article/abs/pii/B9780128190012000218"
   ]
  },
  {
   "cell_type": "code",
   "execution_count": 3,
   "id": "2cc9c0ad",
   "metadata": {},
   "outputs": [
    {
     "name": "stdout",
     "output_type": "stream",
     "text": [
      "no stored variable or alias figgdp\n"
     ]
    },
    {
     "ename": "NameError",
     "evalue": "name 'figgdp' is not defined",
     "output_type": "error",
     "traceback": [
      "\u001b[0;31m---------------------------------------------------------------------------\u001b[0m",
      "\u001b[0;31mNameError\u001b[0m                                 Traceback (most recent call last)",
      "Cell \u001b[0;32mIn[3], line 3\u001b[0m\n\u001b[1;32m      1\u001b[0m get_ipython()\u001b[38;5;241m.\u001b[39mrun_line_magic(\u001b[38;5;124m'\u001b[39m\u001b[38;5;124mstore\u001b[39m\u001b[38;5;124m'\u001b[39m, \u001b[38;5;124m'\u001b[39m\u001b[38;5;124m-r figgdp\u001b[39m\u001b[38;5;124m'\u001b[39m)\n\u001b[0;32m----> 3\u001b[0m \u001b[43mfiggdp\u001b[49m\u001b[38;5;241m.\u001b[39mshow()\n",
      "\u001b[0;31mNameError\u001b[0m: name 'figgdp' is not defined"
     ]
    }
   ],
   "source": [
    "%store -r figgdp2\n",
    "\n",
    "figgdp2.show()"
   ]
  },
  {
   "cell_type": "markdown",
   "id": "411553b2",
   "metadata": {},
   "source": [
    "In this graph we see that 20 years ago countries with a low GDP(Gross Domestic Product) had less industrial productions. Countries with medium or high GDP both had high amounts of industry. These countries saw very little growth over the next 15 years, In contrast the lower GDP countries had lots of industrial improvements. Around 2016 The low GDP countries even overtook the production of total industry of the high GDP countries. A possible reason for this is that it became more expensive to do industrial tasks in higher GDP countries so companies chose to build their factories in lower GDP countries.\n",
    "\n",
    "While this could be benifitial for these developing nations in terms of income, the fact is that at face value their polution rates will be much higher that the countries which contain the countries that pollute."
   ]
  }
 ],
 "metadata": {
  "celltoolbar": "Tags",
  "hide_input": false,
  "kernelspec": {
   "display_name": "Python 3 (ipykernel)",
   "language": "python",
   "name": "python3"
  },
  "language_info": {
   "codemirror_mode": {
    "name": "ipython",
    "version": 3
   },
   "file_extension": ".py",
   "mimetype": "text/x-python",
   "name": "python",
   "nbconvert_exporter": "python",
   "pygments_lexer": "ipython3",
   "version": "3.11.3"
  }
 },
 "nbformat": 4,
 "nbformat_minor": 5
}
