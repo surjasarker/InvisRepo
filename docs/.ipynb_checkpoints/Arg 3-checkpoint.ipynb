{
 "cells": [
  {
   "cell_type": "markdown",
   "metadata": {},
   "source": [
    "# Quality of water and life\n",
    "By continuing to look at the positives of the increasing industry we can see that the water quality is getting better in a lot of countries that see growth in industry. Basic water facilities are one of the basics of hygiene and health and are therefore a good indicator of an increase in health and hygiene.\n",
    "\n",
    "Let's explore the data on these subjects and see what connections exist."
   ]
  },
  {
   "cell_type": "code",
   "execution_count": 1,
   "metadata": {
    "ExecuteTime": {
     "end_time": "2023-06-28T11:57:19.975165182Z",
     "start_time": "2023-06-28T11:57:19.716167018Z"
    },
    "tags": [
     "hide_cell"
    ]
   },
   "outputs": [
    {
     "name": "stdout",
     "output_type": "stream",
     "text": [
      "no stored variable or alias fig_basic\n",
      "no stored variable or alias fig_life\n"
     ]
    },
    {
     "ename": "NameError",
     "evalue": "name 'fig_basic' is not defined",
     "output_type": "error",
     "traceback": [
      "\u001b[0;31m---------------------------------------------------------------------------\u001b[0m",
      "\u001b[0;31mNameError\u001b[0m                                 Traceback (most recent call last)",
      "Cell \u001b[0;32mIn[1], line 4\u001b[0m\n\u001b[1;32m      1\u001b[0m get_ipython()\u001b[38;5;241m.\u001b[39mrun_line_magic(\u001b[38;5;124m'\u001b[39m\u001b[38;5;124mstore\u001b[39m\u001b[38;5;124m'\u001b[39m, \u001b[38;5;124m'\u001b[39m\u001b[38;5;124m-r fig_basic\u001b[39m\u001b[38;5;124m'\u001b[39m)\n\u001b[1;32m      2\u001b[0m get_ipython()\u001b[38;5;241m.\u001b[39mrun_line_magic(\u001b[38;5;124m'\u001b[39m\u001b[38;5;124mstore\u001b[39m\u001b[38;5;124m'\u001b[39m, \u001b[38;5;124m'\u001b[39m\u001b[38;5;124m-r fig_life\u001b[39m\u001b[38;5;124m'\u001b[39m)\n\u001b[0;32m----> 4\u001b[0m \u001b[43mfig_basic\u001b[49m\u001b[38;5;241m.\u001b[39mshow()\n",
      "\u001b[0;31mNameError\u001b[0m: name 'fig_basic' is not defined"
     ]
    }
   ],
   "source": [
    "%store -r fig_basic\n",
    "%store -r fig_life\n",
    "\n",
    "fig_basic.show()"
   ]
  },
  {
   "cell_type": "markdown",
   "metadata": {},
   "source": [
    "What we can see is that countries like China and India, who have seen a massive growth in industry, have seen a great improvement in water quality as well. A lot of countries near the ocean in Africa also see the improvement, going from quite awful to pretty decent. This is thanks to the increase in infrastructure that is needed to keep the industry growing, and as a result other things, such as the quality of the water, also improve\n",
    "\n",
    "It is important to note that all the countries in Europe have a national basic water quality of well over 90, with most big countries having a near perfect 99 score. Scores from 85 and up are considered okay."
   ]
  },
  {
   "cell_type": "markdown",
   "metadata": {},
   "source": [
    "So with this we have found a positive connection between the water quality and the rise of industry, but maybe there's more that we can find as well. Let us explore another factory of life, life expectancy."
   ]
  },
  {
   "cell_type": "code",
   "execution_count": null,
   "metadata": {
    "ExecuteTime": {
     "start_time": "2023-06-28T11:57:19.963681122Z"
    },
    "tags": [
     "hide_cell"
    ]
   },
   "outputs": [],
   "source": [
    "fig_life.show()"
   ]
  },
  {
   "cell_type": "markdown",
   "metadata": {},
   "source": [
    "We can clearly see an increase in total life expectancy and although life expectancy increases slowly over the years, it is clear that countries like India, Brazil, Russia and many countries in Africa have increased their life expectancy. This is all thanks to the growing worldwide industry and connection of the world. Sanitation and health care becomes much more available thanks to the connection of countries as well as due to an increase of availability of clean drinking water.\n",
    "\n",
    "So from this research it is easy to see that industry clearly has its ups, bringing better health and wealth to lots of countries. Next however..."
   ]
  }
 ],
 "metadata": {
  "celltoolbar": "Tags",
  "kernelspec": {
   "display_name": "Python 3 (ipykernel)",
   "language": "python",
   "name": "python3"
  },
  "language_info": {
   "codemirror_mode": {
    "name": "ipython",
    "version": 3
   },
   "file_extension": ".py",
   "mimetype": "text/x-python",
   "name": "python",
   "nbconvert_exporter": "python",
   "pygments_lexer": "ipython3",
   "version": "3.10.6"
  }
 },
 "nbformat": 4,
 "nbformat_minor": 2
}
