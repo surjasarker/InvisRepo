{
 "cells": [
  {
   "attachments": {},
   "cell_type": "markdown",
   "metadata": {},
   "source": [
    "Sketch for argument/ fig 5:\n",
    "considering quality of water and health, it is not all rainbows and sunshine, there are, as shown previously a bunch of negative side effects that go along these postives. For this figure we want to show those, as counter argument."
   ]
  }
 ],
 "metadata": {
  "language_info": {
   "name": "python"
  },
  "orig_nbformat": 4
 },
 "nbformat": 4,
 "nbformat_minor": 2
}
