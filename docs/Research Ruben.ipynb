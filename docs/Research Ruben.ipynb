{
 "cells": [
  {
   "cell_type": "code",
   "execution_count": 1,
   "metadata": {
    "collapsed": true,
    "ExecuteTime": {
     "end_time": "2023-06-20T10:48:25.552565596Z",
     "start_time": "2023-06-20T10:48:24.790229566Z"
    }
   },
   "outputs": [],
   "source": [
    "import pandas as pd\n",
    "import plotly.express as px\n",
    "import plotly.graph_objs as go"
   ]
  },
  {
   "cell_type": "code",
   "execution_count": 2,
   "outputs": [
    {
     "name": "stdout",
     "output_type": "stream",
     "text": [
      "['ISO3', 'Region', 'Year', '    Labour Force with Elementary Education (ISCED 0-2)', '    Labour Force with Secondary education (ISCED 3-4)', '    Labour Force with Tertiary education (ISCED 5-8)', '    Labour Force with Unknown Educational Level', '    R&D Employment in Full-Time Equivalent by the Business Sector', '    R&D Employment in Full-Time Equivalent by the Government Sector', '    R&D Employment in Full-Time Equivalent by the Higher Education Sector', '    R&D Employment in Full-Time Equivalent by the Private and Non-Profit Sector', '    R&D Expenditures Performed by the Business Sector (millions USD, constant prices, constant PPP, base year 2010)', '    R&D Expenditures Performed by the Business Sector (millions of current national currency)', '    R&D Expenditures Performed by the Government Sector (millions USD, constant prices, constant PPP, base year 2010)', '    R&D Expenditures Performed by the Government Sector (millions of current national currency)', '    R&D Expenditures Performed by the Higher Education Sector (millions USD, constant prices, constant PPP, base year 2010)', '    R&D Expenditures Performed by the Higher Education Sector (millions of current national currency)', '    R&D Expenditures Performed by the Private and Non-Profit Sector (millions USD, constant prices, constant PPP, base year 2010)', '    R&D Expenditures Performed by the Private and Non-Profit Sector (millions of current national currency)', '    R&D Female Employed by the Business Sector Rate (in % of Female employment)', '    R&D Female Employed by the Government Sector Rate (in % of Female employment)', '    R&D Female Employed by the Higher Education Sector Rate (in % of Female employment)', '    R&D Female Employed by the Private and Non-Profit Sector Rate (in % of Female employment)', '    R&D Female Personnel Employed by the Business Sector', '    R&D Female Personnel Employed by the Government Sector', '    R&D Female Personnel Employed by the Higher Education Sector', '    R&D Female Personnel Employed by the Private and Non-Profit Sector', '    R&D Personnel Employed by the Business Sector', '    R&D Personnel Employed by the Business Sector Rate (in % of total employment)', '    R&D Personnel Employed by the Government Sector', '    R&D Personnel Employed by the Government Sector Rate (in % of total employment)', '    R&D Personnel Employed by the Higher Education Sector', '    R&D Personnel Employed by the Higher Education Sector Rate (in % of total employment)', '    R&D Personnel Employed by the Private and Non-Profit Sector', '    R&D Personnel Employed by the Private and Non-Profit Sector Rate (in % of total employment)', '    Share of R&D Expenditures Performed by the Business Sector (in % of GDP)', '    Share of R&D Expenditures Performed by the Government Sector (in % of GDP)', '    Share of R&D Expenditures Performed by the Higher Education Sector (in % of GDP)', '    Share of R&D Expenditures Performed by the Private and Non-Profit Sector (in % of GDP)', '    Share of R&D Female Employed by the Government Sector (in % of total R&D personnel, same sector)', '    Share of R&D Female Employed by the Higher Education Sector (in % of total R&D personnel, same sector)', '    Share of R&D Female Employed by the Private and Non-Profit Sector (in % of total R&D personnel, same sector)', '    Share of R&D Female Personnel Employed by the Business Sector (in % of total R&D personnel, same sector)', '    Student Enrolment at Elementary Level (ISCED 0-2)', '    Student Enrolment at Elementary Level Rate (in % of population)', '    Student Enrolment at Secondary Level (ISCED 3-4)', '    Student Enrolment at Secondary Level Rate (in % of population)', '    Student Enrolment at Tertiary Level (ISCED 5-6)', '    Student Enrolment at Tertiary Level Rate (in % of population)', 'Employment in high-technology manufacturing', 'Employment in knowledge-intensive services', 'Employment rate for 25 to 64 year-olds, below upper secondary education', 'Employment rate for 25 to 64 year-olds, with tertiary education', 'Employment rate for 25 to 64 year-olds, with upper secondary and post-secondary non-tertiary education', 'Labour Force Total', 'PCT Patent Applications, count (fractional count; by inventor place of residence and priority year)', 'PCT co-patent applications, all count (total count; by inventor and priority year)', 'PCT patent applications in ICT - count', 'PCT patent applications in biotech - count', 'PCT patent applications in medical - count', 'PCT patent applications in nanotech - count', 'PCT patent applications in pharmaceuticals - count', 'PCT patent applications per million inhabitants (fractional count; by inventor and priority year) - level', 'R&D Female Personnel Rate (in % of Female employment)', 'R&D Total Employment in Full-Time Equivalent', 'R&D Total Expenditure (millions USD, constant prices, constant PPP, base year 2010)', 'R&D Total Expenditure (millions of current national currency)', 'R&D Total Female Personnel', 'R&D Total Personnel', 'R&D Total Personnel Rate (in % of total employment)', 'Share of Labour Force with Elementary Education (in % of labour force)', 'Share of Labour Force with Secondary Education (in % of labour force)', 'Share of Labour Force with Tertiary Education (in % of labour force)', 'Share of R&D Female in R&D Total Personnel', 'Share of R&D Total Expenditure (in % of GDP)', 'Share of employment in high-technology manufacturing (in % of total employment)', 'Share of employment in knowledge-intensive services (as a share of total employment)', 'Share of population 25 to 64 year-olds with tertiary education ', 'Share of population 25 to 64 year-olds, below upper secondary education', 'Share of population 25 to 64 year-olds, with upper secondary and post-secondary non-tertiary education', 'Student Enrolment Total', 'Total employment, all activities']\n",
      "[]\n"
     ]
    }
   ],
   "source": [
    "df_green = pd.read_csv('pivoted_data_GREEN_GROWTH.csv')\n",
    "df_inno = pd.read_csv('pivoted_data_inno.csv')\n",
    "\n",
    "first_column_green = df_green.pop('COU')\n",
    "df_green.insert(0, 'ISO3', first_column_green)\n",
    "\n",
    "df_green.to_csv('iso_green.csv')\n",
    "\n",
    "first_column_inno = df_inno.pop('REG_ID')\n",
    "df_inno.insert(0, 'ISO3', first_column_inno)\n",
    "\n",
    "# df_inno.to_csv('iso_inno.csv')\n",
    "\n",
    "inno_columns = list(df_inno.columns.values)\n",
    "green_list = list(df_green.columns.values)\n",
    "\n",
    "print(inno_columns)\n",
    "\n",
    "df_combined = df_green.merge(df_inno, on='ISO3')\n",
    "\n",
    "all_columns = list(df_combined.columns.values)\n",
    "\n",
    "# print(df_green.columns.values)\n",
    "\n",
    "corr_list = []\n",
    "\n",
    "for item in green_list[3:]:\n",
    "    corr = df_combined['    Labour Force with Elementary Education (ISCED 0-2)'].corr(df_green[item])\n",
    "    if corr >= 0.4 or corr <= -0.4:\n",
    "        corr_list.append([corr, item])\n",
    "\n",
    "print(corr_list)\n",
    "# Total employment, all activities and Demand-based CO2 emissions"
   ],
   "metadata": {
    "collapsed": false,
    "ExecuteTime": {
     "end_time": "2023-06-20T10:48:26.552731855Z",
     "start_time": "2023-06-20T10:48:25.556430544Z"
    }
   }
  },
  {
   "cell_type": "code",
   "execution_count": 3,
   "outputs": [
    {
     "name": "stdout",
     "output_type": "stream",
     "text": [
      "['ISO3', 'Country', 'Year', 'Adjustment for pollution abatement', 'Artificial surfaces, % total ', 'Bare land, % total', 'Biomass, % of DMC', 'Built up area per capita', 'Built up area, % total land', 'CO2 emissions from air transport per capita', 'CO2 emissions from air transport per unit of GDP', 'Coal support, % total fossil fuel support', 'Contribution of natural capital', 'Conversion from cropland to artificial surfaces, % since 1992', 'Conversion from natural and semi-natural land to artificial surfaces, % since 1992', 'Conversion from natural and semi-natural land to cropland, % since 1992', 'Conversion of not-water to permanent water surface, % permanent water, since 1984', 'Conversion of permanent to seasonal water surface, % permanent water, since 1984', 'Conversion of permanent water to not-water surface, % permanent water, since 1984', 'Conversion of seasonal to permanent water surface, % permanent water, since 1984', 'Cropland, % total', 'Demand-based CO2 emissions', 'Demand-based CO2 emissions, index 2000=100', 'Demand-based CO2 intensity, energy-related CO2 per capita', 'Demand-based CO2 productivity, GDP per unit of energy-related CO2 emissions', 'Demand-based CO2 productivity, disposable income per unit of energy-related CO2 emissions', 'Development of environment-related technologies, % all technologies', 'Development of environment-related technologies, % inventions worldwide', 'Development of environment-related technologies, inventions per capita', 'Diesel end-user price, USD per litre', 'Diesel tax, USD per litre', 'Electricity support, % total fossil fuel support', 'Emissions priced above EUR 120 per tonne of CO2, % total emissions', 'Emissions priced above EUR 30 per tonne of CO2, % total emissions', 'Emissions priced above EUR 60 per tonne of CO2, % total emissions', 'Energy consumption in agriculture, % total energy consumption', 'Energy consumption in industry, % total energy consumption', 'Energy consumption in other sectors, % total energy consumption', 'Energy consumption in services, % total energy consumption', 'Energy consumption in transport, % total energy consumption', 'Energy intensity, TES per capita', 'Energy productivity,  GDP per unit of TES', 'Energy public RD&D budget, % GDP', 'Energy related tax revenue, % total environmental tax revenue', 'Environmentally adjusted multifactor productivity growth', 'Environmentally related ODA, % total allocable ODA', 'Environmentally related R&D expenditure, % GDP', 'Environmentally related government R&D budget, % total government R&D', 'Environmentally related taxes, % GDP', 'Environmentally related taxes, % total tax revenue', 'Farmland Birds Index, 2000=100', 'Forest Birds Index, 2000=100', 'Forest resource stocks', 'Forests with long-term management plans, % total forest area', 'Fossil fuel consumer support, % energy related tax revenue', 'Fossil fuel consumer support, % total fossil fuel support', 'Fossil fuel consumer support, % total tax revenue', 'Fossil fuel general services support, % total fossil fuel support', 'Fossil fuel producer support, % total fossil fuel support', 'Fossil fuel public RD&D budget (excluding CCS), % total energy public RD&D', 'GDP deflator', 'Gain of natural and semi-natural vegetated land, % since 1992', 'Gain of natural and semi-natural vegetated land, % since 2004', 'Gas support, % total fossil fuel support', 'Industry electricity price, USD per kWh', 'Intact forest landscape loss, % since 2000', 'Intact forest landscape, km2', 'Intensity of use of forest resources', 'Irrigated land, % agricultural land', 'Labour tax revenue, % GDP', 'Labour tax revenue, % total tax revenue', 'Life expectancy at birth', 'Loss of natural and semi-natural vegetated land, % since 1992', 'Loss of natural and semi-natural vegetated land, % since 2004', 'Marine protected area, % total exclusive economic zone', 'Mean feed-in tariff for solar PV electricity generation', 'Mean feed-in tariff for wind electricity generation', 'Mean population exposure to PM2.5', 'Metals, % of DMC', 'Mortality from exposure to ambient PM2.5', 'Mortality from exposure to ambient ozone', 'Mortality from exposure to lead', 'Mortality from exposure to residential radon', 'Municipal waste disposed to landfills, % treated waste', 'Municipal waste generated, kg per capita', 'Municipal waste incinerated, % treated waste', 'Municipal waste recycled or composted, % treated waste ', 'National expenditure on environmental protection, % GDP', 'Natural and semi-natural vegetated land, % total', 'Naturally regenerating forests, % total forest area', 'Net ODA provided, % GNI', 'Net migration', 'New built up area, % since 1990', 'New built up area, % since 2000', 'Nitrogen balance per hectare', 'Nominal exchange rate', 'Non-energy material productivity, GDP per unit of DMC', 'Non-metallic minerals, % of DMC', 'ODA - all sectors - biodiversity, % total allocable ODA', 'ODA - all sectors - climate change adaptation, % total allocable ODA', 'ODA - all sectors - climate change mitigation, % total allocable ODA', 'ODA - all sectors - desertification, % total allocable ODA', 'ODA - environment sector, % total allocable ODA', 'ODA - renewable energy sector, % total allocable ODA', 'ODA - water supply and sanitation sector, % total allocable ODA', 'Percentage of population exposed to more than 10 micrograms/m3', 'Percentage of population exposed to more than 35 micrograms/m3', 'Percentage of population exposure to hot days', 'Percentage of population exposure to icing days', 'Percentage of population exposure to river flooding', 'Percentage of population exposure to wildfires', 'Permanent surface water, % total surface', 'Petrol end-user price, USD per litre', 'Petrol tax, USD per litre', 'Petroleum support, % total fossil fuel support', 'Phosphorus balance per hectare', 'Population', 'Population connected to public sewerage, % total population', 'Population connected to sewerage with primary treatment, % total population', 'Population connected to sewerage with secondary treatment, % total population', 'Population connected to sewerage with tertiary treatment, % total population', 'Population density, inhabitants per km2', 'Population with access to improved drinking water sources, % total population ', 'Population with access to improved sanitation, % total population', 'Population, ages 0-14, % total', 'Population, ages 15-64, % total', 'Population, ages 65 and above, % total', 'Production-based CO2 emissions', 'Production-based CO2 emissions, index 2000=100', 'Production-based CO2 intensity, energy-related CO2 per capita', 'Production-based CO2 productivity, GDP per unit of energy-related CO2 emissions', 'Purchasing power parity', 'Real GDP', 'Real GDP per capita', 'Real GDP, Index 2000=100', 'Relative advantage in environment-related technology', 'Renewable electricity, % total electricity generation', 'Renewable energy public RD&D budget, % total energy public RD&D', 'Renewable energy supply (excluding solid biofuels), % total energy supply', 'Renewable energy supply, % total energy supply', 'Residential electricity price, USD per kWh', 'Road transport-related tax revenue, % total environmental tax revenue', 'Sales of pesticides per unit of agricultural land', 'Seasonal surface water, % total surface ', 'Terrestrial protected area, % land area', 'Threatened bird species, % total known species', 'Threatened mammal species, % total known species', 'Threatened vascular plant species, % total known species', 'Total energy supply', 'Total energy supply, index 2000=100', 'Total fertility rate, children per woman', 'Total fossil fuel support, % of total tax revenue', 'Total freshwater abstraction per capita', 'Total renewable freshwater per capita', 'Value added in agriculture, % of total value added', 'Value added in industry, % of total value added', 'Value added in services, % of total value added', 'Water stress, total freshwater abstraction as % total available renewable resources', 'Water stress, total freshwater abstraction as % total internal renewable resources', 'Water, % total', 'Welfare costs of premature deaths from exposure to ambient ozone, GDP equivalent', 'Welfare costs of premature deaths from exposure to lead, GDP equivalent', 'Welfare costs of premature mortalities from exposure to ambient PM2.5, GDP equivalent', 'Welfare costs of premature mortalities from exposure to residential radon, GDP equivalent', 'Women, % total population']\n"
     ]
    }
   ],
   "source": [
    "fig = px.line(df_combined, x='Year_x', y='Demand-based CO2 emissions', color='ISO3', title='Thing')\n",
    "\n",
    "fig.show()"
   ],
   "metadata": {
    "collapsed": false,
    "ExecuteTime": {
     "end_time": "2023-06-20T10:48:26.661693780Z",
     "start_time": "2023-06-20T10:48:26.487618026Z"
    }
   }
  },
  {
   "cell_type": "code",
   "execution_count": 4,
   "outputs": [
    {
     "name": "stdout",
     "output_type": "stream",
     "text": [
      "['ISO3', 'Country', 'Time', 'Passenger car registrations sa, Index', 'Permits issued for dwellings sa, Index', 'Production in total manufacturing sa, Index', 'Production of electricity, gas, steam and air conditioning supply sa, index', 'Production of total construction sa, Index', 'Production of total energy sa, Index', 'Production of total industry sa, Index', 'Production of total manufactured intermediate goods sa, Index', 'Production of total manufactured investment goods sa, Index', 'Total retail trade (Volume) sa, Index', 'Work started for dwellings sa, Index']\n",
      "[]\n"
     ]
    }
   ],
   "source": [
    "fig = px.line(df_combined, x='Year_y', y='Employment in high-technology manufacturing', color='ISO3', title='Thing')\n",
    "\n",
    "fig.show()"
   ],
   "metadata": {
    "collapsed": false,
    "ExecuteTime": {
     "end_time": "2023-06-20T10:48:26.845368516Z",
     "start_time": "2023-06-20T10:48:26.588102749Z"
    }
   }
  },
  {
   "cell_type": "code",
   "execution_count": 5,
   "outputs": [
    {
     "name": "stdout",
     "output_type": "stream",
     "text": [
      "['COUNTRY', 'Country', 'Year', 'Airports per one hundred thousand sq. km', 'Airports per one million inhabitants', 'Density of rail lines (km per one hundred sq. km)', 'Density of road (km per one hundred sq. km)', 'Inland waterways infrastructure investment in constant USD per inhabitant', 'Inland waterways infrastructure investment per GDP', 'Rail infrastructure investment in constant USD per inhabitant', 'Rail infrastructure investment per GDP', 'Road infrastructure investment in constant USD per inhabitant', 'Road infrastructure investment per GDP', 'Share of electrified rail lines in total rail network', 'Share of high-speed rail lines in total rail network', 'Share of inland waterways infrastructure investment in total inland transport infrastructure investment', 'Share of motorways in total road network', 'Share of rail infrastructure investment in total inland transport infrastructure investment', 'Share of road infrastructure investment in total inland transport infrastructure investment', 'Share of road infrastructure maintenance in total road infrastructure spending', 'Share of urban roads in total road network', 'Total inland transport infrastructure investment in constant USD per inhabitant', 'Total inland transport infrastructure investment per GDP']\n",
      "[[0.5287306517141934, 'Water stress, total freshwater abstraction as % total available renewable resources']]\n"
     ]
    }
   ],
   "source": [
    "df_mei = pd.read_csv('pivoted_data_MEI.csv')\n",
    "\n",
    "# print(list(df_mei.columns.values))\n",
    "\n",
    "first_column_mei = df_mei.pop('LOCATION')\n",
    "df_mei.insert(0, 'ISO3', first_column_mei)\n",
    "\n",
    "# df_mei.to_csv('iso_mei.csv')\n",
    "\n",
    "df_combined2 = df_green.merge(df_mei, on='ISO3')\n",
    "\n",
    "print(list(df_green.columns.values))"
   ],
   "metadata": {
    "collapsed": false,
    "ExecuteTime": {
     "end_time": "2023-06-20T10:48:27.069005669Z",
     "start_time": "2023-06-20T10:48:26.775081763Z"
    }
   }
  },
  {
   "cell_type": "code",
   "execution_count": 6,
   "outputs": [
    {
     "name": "stdout",
     "output_type": "stream",
     "text": [
      "['Country', 'ISO3', 'Year', 'Population (thousands)', '% urban', 'NATIONAL-Basic', 'NATIONAL-Limited', 'NATIONAL-Unimproved', 'NATIONAL-Surface water', 'NATIONAL-Annual rate change basic', 'RURAL-Basic', 'RURAL-Limited', 'RURAL-Unimproved', 'RURAL-Surface water', 'RURAL-Annual rate change basic', 'URBAN-Basic', 'URBAN-Limited', 'URBAN-Unimproved', 'URBAN-Surface water', 'URBAN-Annual rate change basic', 'NATIONAL-Proportion-Safely managed', 'NATIONAL-Proportion-Accessible on premises', 'NATIONAL-Proportion-Available when needed', 'NATIONAL-Proportion-Free from contamination', 'NATIONAL-Proportion-Annual rate of change in safely managed', 'NATIONAL-Proportion-Piped', 'NATIONAL-Proportion-Non-piped', 'RURAL-Proportion-Safely managed', 'RURAL-Proportion-Accessible on premises', 'RURAL-Proportion-Available when needed', 'RURAL-Proportion-Free from contamination', 'RURAL-Proportion-Annual rate of change in safely managed', 'RURAL-Proportion-Piped', 'RURAL-Proportion-Non-piped', 'URBAN-Proportion-Safely managed', 'URBAN-Proportion-Accessible on premises', 'URBAN-Proportion-Available when needed', 'URBAN-Proportion-Free from contamination', 'URBAN-Proportion-Annual rate of change in safely managed', 'URBAN-Proportion-Piped', 'URBAN-Proportion-Non-piped', 'Sl', 'SDG region', 'WHO region', 'UNICEF Programming region', 'UNICEF Reporting region']\n"
     ]
    },
    {
     "ename": "TypeError",
     "evalue": "unsupported operand type(s) for /: 'str' and 'int'",
     "output_type": "error",
     "traceback": [
      "\u001B[0;31m---------------------------------------------------------------------------\u001B[0m",
      "\u001B[0;31mTypeError\u001B[0m                                 Traceback (most recent call last)",
      "Cell \u001B[0;32mIn[6], line 15\u001B[0m\n\u001B[1;32m     12\u001B[0m corr_list \u001B[38;5;241m=\u001B[39m []\n\u001B[1;32m     14\u001B[0m \u001B[38;5;28;01mfor\u001B[39;00m item \u001B[38;5;129;01min\u001B[39;00m green_list[\u001B[38;5;241m3\u001B[39m:]:\n\u001B[0;32m---> 15\u001B[0m     corr \u001B[38;5;241m=\u001B[39m \u001B[43mdf_combined4\u001B[49m\u001B[43m[\u001B[49m\u001B[38;5;124;43m'\u001B[39;49m\u001B[38;5;124;43mRURAL-Proportion-Non-piped\u001B[39;49m\u001B[38;5;124;43m'\u001B[39;49m\u001B[43m]\u001B[49m\u001B[38;5;241;43m.\u001B[39;49m\u001B[43mcorr\u001B[49m\u001B[43m(\u001B[49m\u001B[43mdf_combined4\u001B[49m\u001B[43m[\u001B[49m\u001B[43mitem\u001B[49m\u001B[43m]\u001B[49m\u001B[43m)\u001B[49m\n\u001B[1;32m     16\u001B[0m     \u001B[38;5;28;01mif\u001B[39;00m corr \u001B[38;5;241m>\u001B[39m\u001B[38;5;241m=\u001B[39m \u001B[38;5;241m0.5\u001B[39m \u001B[38;5;129;01mor\u001B[39;00m corr \u001B[38;5;241m<\u001B[39m\u001B[38;5;241m=\u001B[39m \u001B[38;5;241m-\u001B[39m\u001B[38;5;241m0.5\u001B[39m:\n\u001B[1;32m     17\u001B[0m         corr_list\u001B[38;5;241m.\u001B[39mappend([corr, item])\n",
      "File \u001B[0;32m~/Documents/Information-Visualisation/venv/lib/python3.10/site-packages/pandas/core/series.py:2727\u001B[0m, in \u001B[0;36mSeries.corr\u001B[0;34m(self, other, method, min_periods)\u001B[0m\n\u001B[1;32m   2724\u001B[0m     \u001B[38;5;28;01mreturn\u001B[39;00m np\u001B[38;5;241m.\u001B[39mnan\n\u001B[1;32m   2726\u001B[0m \u001B[38;5;28;01mif\u001B[39;00m method \u001B[38;5;129;01min\u001B[39;00m [\u001B[38;5;124m\"\u001B[39m\u001B[38;5;124mpearson\u001B[39m\u001B[38;5;124m\"\u001B[39m, \u001B[38;5;124m\"\u001B[39m\u001B[38;5;124mspearman\u001B[39m\u001B[38;5;124m\"\u001B[39m, \u001B[38;5;124m\"\u001B[39m\u001B[38;5;124mkendall\u001B[39m\u001B[38;5;124m\"\u001B[39m] \u001B[38;5;129;01mor\u001B[39;00m \u001B[38;5;28mcallable\u001B[39m(method):\n\u001B[0;32m-> 2727\u001B[0m     \u001B[38;5;28;01mreturn\u001B[39;00m \u001B[43mnanops\u001B[49m\u001B[38;5;241;43m.\u001B[39;49m\u001B[43mnancorr\u001B[49m\u001B[43m(\u001B[49m\n\u001B[1;32m   2728\u001B[0m \u001B[43m        \u001B[49m\u001B[43mthis\u001B[49m\u001B[38;5;241;43m.\u001B[39;49m\u001B[43mvalues\u001B[49m\u001B[43m,\u001B[49m\u001B[43m \u001B[49m\u001B[43mother\u001B[49m\u001B[38;5;241;43m.\u001B[39;49m\u001B[43mvalues\u001B[49m\u001B[43m,\u001B[49m\u001B[43m \u001B[49m\u001B[43mmethod\u001B[49m\u001B[38;5;241;43m=\u001B[39;49m\u001B[43mmethod\u001B[49m\u001B[43m,\u001B[49m\u001B[43m \u001B[49m\u001B[43mmin_periods\u001B[49m\u001B[38;5;241;43m=\u001B[39;49m\u001B[43mmin_periods\u001B[49m\n\u001B[1;32m   2729\u001B[0m \u001B[43m    \u001B[49m\u001B[43m)\u001B[49m\n\u001B[1;32m   2731\u001B[0m \u001B[38;5;28;01mraise\u001B[39;00m \u001B[38;5;167;01mValueError\u001B[39;00m(\n\u001B[1;32m   2732\u001B[0m     \u001B[38;5;124m\"\u001B[39m\u001B[38;5;124mmethod must be either \u001B[39m\u001B[38;5;124m'\u001B[39m\u001B[38;5;124mpearson\u001B[39m\u001B[38;5;124m'\u001B[39m\u001B[38;5;124m, \u001B[39m\u001B[38;5;124m\"\u001B[39m\n\u001B[1;32m   2733\u001B[0m     \u001B[38;5;124m\"\u001B[39m\u001B[38;5;124m'\u001B[39m\u001B[38;5;124mspearman\u001B[39m\u001B[38;5;124m'\u001B[39m\u001B[38;5;124m, \u001B[39m\u001B[38;5;124m'\u001B[39m\u001B[38;5;124mkendall\u001B[39m\u001B[38;5;124m'\u001B[39m\u001B[38;5;124m, or a callable, \u001B[39m\u001B[38;5;124m\"\u001B[39m\n\u001B[1;32m   2734\u001B[0m     \u001B[38;5;124mf\u001B[39m\u001B[38;5;124m\"\u001B[39m\u001B[38;5;124m'\u001B[39m\u001B[38;5;132;01m{\u001B[39;00mmethod\u001B[38;5;132;01m}\u001B[39;00m\u001B[38;5;124m'\u001B[39m\u001B[38;5;124m was supplied\u001B[39m\u001B[38;5;124m\"\u001B[39m\n\u001B[1;32m   2735\u001B[0m )\n",
      "File \u001B[0;32m~/Documents/Information-Visualisation/venv/lib/python3.10/site-packages/pandas/core/nanops.py:96\u001B[0m, in \u001B[0;36mdisallow.__call__.<locals>._f\u001B[0;34m(*args, **kwargs)\u001B[0m\n\u001B[1;32m     94\u001B[0m \u001B[38;5;28;01mtry\u001B[39;00m:\n\u001B[1;32m     95\u001B[0m     \u001B[38;5;28;01mwith\u001B[39;00m np\u001B[38;5;241m.\u001B[39merrstate(invalid\u001B[38;5;241m=\u001B[39m\u001B[38;5;124m\"\u001B[39m\u001B[38;5;124mignore\u001B[39m\u001B[38;5;124m\"\u001B[39m):\n\u001B[0;32m---> 96\u001B[0m         \u001B[38;5;28;01mreturn\u001B[39;00m \u001B[43mf\u001B[49m\u001B[43m(\u001B[49m\u001B[38;5;241;43m*\u001B[39;49m\u001B[43margs\u001B[49m\u001B[43m,\u001B[49m\u001B[43m \u001B[49m\u001B[38;5;241;43m*\u001B[39;49m\u001B[38;5;241;43m*\u001B[39;49m\u001B[43mkwargs\u001B[49m\u001B[43m)\u001B[49m\n\u001B[1;32m     97\u001B[0m \u001B[38;5;28;01mexcept\u001B[39;00m \u001B[38;5;167;01mValueError\u001B[39;00m \u001B[38;5;28;01mas\u001B[39;00m e:\n\u001B[1;32m     98\u001B[0m     \u001B[38;5;66;03m# we want to transform an object array\u001B[39;00m\n\u001B[1;32m     99\u001B[0m     \u001B[38;5;66;03m# ValueError message to the more typical TypeError\u001B[39;00m\n\u001B[1;32m    100\u001B[0m     \u001B[38;5;66;03m# e.g. this is normally a disallowed function on\u001B[39;00m\n\u001B[1;32m    101\u001B[0m     \u001B[38;5;66;03m# object arrays that contain strings\u001B[39;00m\n\u001B[1;32m    102\u001B[0m     \u001B[38;5;28;01mif\u001B[39;00m is_object_dtype(args[\u001B[38;5;241m0\u001B[39m]):\n",
      "File \u001B[0;32m~/Documents/Information-Visualisation/venv/lib/python3.10/site-packages/pandas/core/nanops.py:1614\u001B[0m, in \u001B[0;36mnancorr\u001B[0;34m(a, b, method, min_periods)\u001B[0m\n\u001B[1;32m   1611\u001B[0m     \u001B[38;5;28;01mreturn\u001B[39;00m np\u001B[38;5;241m.\u001B[39mnan\n\u001B[1;32m   1613\u001B[0m f \u001B[38;5;241m=\u001B[39m get_corr_func(method)\n\u001B[0;32m-> 1614\u001B[0m \u001B[38;5;28;01mreturn\u001B[39;00m \u001B[43mf\u001B[49m\u001B[43m(\u001B[49m\u001B[43ma\u001B[49m\u001B[43m,\u001B[49m\u001B[43m \u001B[49m\u001B[43mb\u001B[49m\u001B[43m)\u001B[49m\n",
      "File \u001B[0;32m~/Documents/Information-Visualisation/venv/lib/python3.10/site-packages/pandas/core/nanops.py:1637\u001B[0m, in \u001B[0;36mget_corr_func.<locals>.func\u001B[0;34m(a, b)\u001B[0m\n\u001B[1;32m   1636\u001B[0m \u001B[38;5;28;01mdef\u001B[39;00m \u001B[38;5;21mfunc\u001B[39m(a, b):\n\u001B[0;32m-> 1637\u001B[0m     \u001B[38;5;28;01mreturn\u001B[39;00m \u001B[43mnp\u001B[49m\u001B[38;5;241;43m.\u001B[39;49m\u001B[43mcorrcoef\u001B[49m\u001B[43m(\u001B[49m\u001B[43ma\u001B[49m\u001B[43m,\u001B[49m\u001B[43m \u001B[49m\u001B[43mb\u001B[49m\u001B[43m)\u001B[49m[\u001B[38;5;241m0\u001B[39m, \u001B[38;5;241m1\u001B[39m]\n",
      "File \u001B[0;32m<__array_function__ internals>:200\u001B[0m, in \u001B[0;36mcorrcoef\u001B[0;34m(*args, **kwargs)\u001B[0m\n",
      "File \u001B[0;32m~/Documents/Information-Visualisation/venv/lib/python3.10/site-packages/numpy/lib/function_base.py:2846\u001B[0m, in \u001B[0;36mcorrcoef\u001B[0;34m(x, y, rowvar, bias, ddof, dtype)\u001B[0m\n\u001B[1;32m   2842\u001B[0m \u001B[38;5;28;01mif\u001B[39;00m bias \u001B[38;5;129;01mis\u001B[39;00m \u001B[38;5;129;01mnot\u001B[39;00m np\u001B[38;5;241m.\u001B[39m_NoValue \u001B[38;5;129;01mor\u001B[39;00m ddof \u001B[38;5;129;01mis\u001B[39;00m \u001B[38;5;129;01mnot\u001B[39;00m np\u001B[38;5;241m.\u001B[39m_NoValue:\n\u001B[1;32m   2843\u001B[0m     \u001B[38;5;66;03m# 2015-03-15, 1.10\u001B[39;00m\n\u001B[1;32m   2844\u001B[0m     warnings\u001B[38;5;241m.\u001B[39mwarn(\u001B[38;5;124m'\u001B[39m\u001B[38;5;124mbias and ddof have no effect and are deprecated\u001B[39m\u001B[38;5;124m'\u001B[39m,\n\u001B[1;32m   2845\u001B[0m                   \u001B[38;5;167;01mDeprecationWarning\u001B[39;00m, stacklevel\u001B[38;5;241m=\u001B[39m\u001B[38;5;241m3\u001B[39m)\n\u001B[0;32m-> 2846\u001B[0m c \u001B[38;5;241m=\u001B[39m \u001B[43mcov\u001B[49m\u001B[43m(\u001B[49m\u001B[43mx\u001B[49m\u001B[43m,\u001B[49m\u001B[43m \u001B[49m\u001B[43my\u001B[49m\u001B[43m,\u001B[49m\u001B[43m \u001B[49m\u001B[43mrowvar\u001B[49m\u001B[43m,\u001B[49m\u001B[43m \u001B[49m\u001B[43mdtype\u001B[49m\u001B[38;5;241;43m=\u001B[39;49m\u001B[43mdtype\u001B[49m\u001B[43m)\u001B[49m\n\u001B[1;32m   2847\u001B[0m \u001B[38;5;28;01mtry\u001B[39;00m:\n\u001B[1;32m   2848\u001B[0m     d \u001B[38;5;241m=\u001B[39m diag(c)\n",
      "File \u001B[0;32m<__array_function__ internals>:200\u001B[0m, in \u001B[0;36mcov\u001B[0;34m(*args, **kwargs)\u001B[0m\n",
      "File \u001B[0;32m~/Documents/Information-Visualisation/venv/lib/python3.10/site-packages/numpy/lib/function_base.py:2681\u001B[0m, in \u001B[0;36mcov\u001B[0;34m(m, y, rowvar, bias, ddof, fweights, aweights, dtype)\u001B[0m\n\u001B[1;32m   2678\u001B[0m     \u001B[38;5;28;01melse\u001B[39;00m:\n\u001B[1;32m   2679\u001B[0m         w \u001B[38;5;241m*\u001B[39m\u001B[38;5;241m=\u001B[39m aweights\n\u001B[0;32m-> 2681\u001B[0m avg, w_sum \u001B[38;5;241m=\u001B[39m \u001B[43maverage\u001B[49m\u001B[43m(\u001B[49m\u001B[43mX\u001B[49m\u001B[43m,\u001B[49m\u001B[43m \u001B[49m\u001B[43maxis\u001B[49m\u001B[38;5;241;43m=\u001B[39;49m\u001B[38;5;241;43m1\u001B[39;49m\u001B[43m,\u001B[49m\u001B[43m \u001B[49m\u001B[43mweights\u001B[49m\u001B[38;5;241;43m=\u001B[39;49m\u001B[43mw\u001B[49m\u001B[43m,\u001B[49m\u001B[43m \u001B[49m\u001B[43mreturned\u001B[49m\u001B[38;5;241;43m=\u001B[39;49m\u001B[38;5;28;43;01mTrue\u001B[39;49;00m\u001B[43m)\u001B[49m\n\u001B[1;32m   2682\u001B[0m w_sum \u001B[38;5;241m=\u001B[39m w_sum[\u001B[38;5;241m0\u001B[39m]\n\u001B[1;32m   2684\u001B[0m \u001B[38;5;66;03m# Determine the normalization\u001B[39;00m\n",
      "File \u001B[0;32m<__array_function__ internals>:200\u001B[0m, in \u001B[0;36maverage\u001B[0;34m(*args, **kwargs)\u001B[0m\n",
      "File \u001B[0;32m~/Documents/Information-Visualisation/venv/lib/python3.10/site-packages/numpy/lib/function_base.py:518\u001B[0m, in \u001B[0;36maverage\u001B[0;34m(a, axis, weights, returned, keepdims)\u001B[0m\n\u001B[1;32m    515\u001B[0m     keepdims_kw \u001B[38;5;241m=\u001B[39m {\u001B[38;5;124m'\u001B[39m\u001B[38;5;124mkeepdims\u001B[39m\u001B[38;5;124m'\u001B[39m: keepdims}\n\u001B[1;32m    517\u001B[0m \u001B[38;5;28;01mif\u001B[39;00m weights \u001B[38;5;129;01mis\u001B[39;00m \u001B[38;5;28;01mNone\u001B[39;00m:\n\u001B[0;32m--> 518\u001B[0m     avg \u001B[38;5;241m=\u001B[39m \u001B[43ma\u001B[49m\u001B[38;5;241;43m.\u001B[39;49m\u001B[43mmean\u001B[49m\u001B[43m(\u001B[49m\u001B[43maxis\u001B[49m\u001B[43m,\u001B[49m\u001B[43m \u001B[49m\u001B[38;5;241;43m*\u001B[39;49m\u001B[38;5;241;43m*\u001B[39;49m\u001B[43mkeepdims_kw\u001B[49m\u001B[43m)\u001B[49m\n\u001B[1;32m    519\u001B[0m     avg_as_array \u001B[38;5;241m=\u001B[39m np\u001B[38;5;241m.\u001B[39masanyarray(avg)\n\u001B[1;32m    520\u001B[0m     scl \u001B[38;5;241m=\u001B[39m avg_as_array\u001B[38;5;241m.\u001B[39mdtype\u001B[38;5;241m.\u001B[39mtype(a\u001B[38;5;241m.\u001B[39msize\u001B[38;5;241m/\u001B[39mavg_as_array\u001B[38;5;241m.\u001B[39msize)\n",
      "File \u001B[0;32m~/Documents/Information-Visualisation/venv/lib/python3.10/site-packages/numpy/core/_methods.py:184\u001B[0m, in \u001B[0;36m_mean\u001B[0;34m(a, axis, dtype, out, keepdims, where)\u001B[0m\n\u001B[1;32m    182\u001B[0m \u001B[38;5;28;01mif\u001B[39;00m \u001B[38;5;28misinstance\u001B[39m(ret, mu\u001B[38;5;241m.\u001B[39mndarray):\n\u001B[1;32m    183\u001B[0m     \u001B[38;5;28;01mwith\u001B[39;00m _no_nep50_warning():\n\u001B[0;32m--> 184\u001B[0m         ret \u001B[38;5;241m=\u001B[39m \u001B[43mum\u001B[49m\u001B[38;5;241;43m.\u001B[39;49m\u001B[43mtrue_divide\u001B[49m\u001B[43m(\u001B[49m\n\u001B[1;32m    185\u001B[0m \u001B[43m                \u001B[49m\u001B[43mret\u001B[49m\u001B[43m,\u001B[49m\u001B[43m \u001B[49m\u001B[43mrcount\u001B[49m\u001B[43m,\u001B[49m\u001B[43m \u001B[49m\u001B[43mout\u001B[49m\u001B[38;5;241;43m=\u001B[39;49m\u001B[43mret\u001B[49m\u001B[43m,\u001B[49m\u001B[43m \u001B[49m\u001B[43mcasting\u001B[49m\u001B[38;5;241;43m=\u001B[39;49m\u001B[38;5;124;43m'\u001B[39;49m\u001B[38;5;124;43munsafe\u001B[39;49m\u001B[38;5;124;43m'\u001B[39;49m\u001B[43m,\u001B[49m\u001B[43m \u001B[49m\u001B[43msubok\u001B[49m\u001B[38;5;241;43m=\u001B[39;49m\u001B[38;5;28;43;01mFalse\u001B[39;49;00m\u001B[43m)\u001B[49m\n\u001B[1;32m    186\u001B[0m     \u001B[38;5;28;01mif\u001B[39;00m is_float16_result \u001B[38;5;129;01mand\u001B[39;00m out \u001B[38;5;129;01mis\u001B[39;00m \u001B[38;5;28;01mNone\u001B[39;00m:\n\u001B[1;32m    187\u001B[0m         ret \u001B[38;5;241m=\u001B[39m arr\u001B[38;5;241m.\u001B[39mdtype\u001B[38;5;241m.\u001B[39mtype(ret)\n",
      "\u001B[0;31mTypeError\u001B[0m: unsupported operand type(s) for /: 'str' and 'int'"
     ]
    }
   ],
   "source": [
    "green_list = list(df_green.columns.values)\n",
    "\n",
    "mei_list = list(df_mei.columns.values)\n",
    "print(mei_list)\n",
    "\n",
    "corr_list = []\n",
    "\n",
    "for item in green_list[3:]:\n",
    "    corr = df_combined2['Production in total manufacturing sa, Index'].corr(df_combined2[item])\n",
    "    if corr >= 0.4 or corr <= -0.4:\n",
    "        corr_list.append([corr, item])\n",
    "\n",
    "print(corr_list)"
   ],
   "metadata": {
    "collapsed": false,
    "ExecuteTime": {
     "end_time": "2023-06-20T10:48:29.028983637Z",
     "start_time": "2023-06-20T10:48:27.054092502Z"
    }
   }
  },
  {
   "cell_type": "code",
   "execution_count": 47,
   "outputs": [
    {
     "name": "stdout",
     "output_type": "stream",
     "text": [
      "nan\n"
     ]
    }
   ],
   "source": [
    "df_infra = pd.read_csv('pivoted_data_ITF_INFRA.csv')\n",
    "\n",
    "infra_list = list(df_infra.columns.values)\n",
    "print(infra_list)\n",
    "\n",
    "first_column_infra = df_infra.pop('COUNTRY')\n",
    "df_infra.insert(0, 'ISO3', first_column_infra)\n",
    "\n",
    "# df_infra.to_csv('iso_infra.csv')\n",
    "\n",
    "df_combined3 = df_green.merge(df_infra, on='ISO3')\n",
    "\n",
    "corr_list = []\n",
    "\n",
    "for item in green_list[3:]:\n",
    "    corr = df_combined3['Inland waterways infrastructure investment per GDP'].corr(df_combined3[item])\n",
    "    if corr >= 0.5 or corr <= -0.5:\n",
    "        corr_list.append([corr, item])\n",
    "\n",
    "print(corr_list)"
   ],
   "metadata": {
    "collapsed": false,
    "ExecuteTime": {
     "end_time": "2023-06-20T11:30:02.834971262Z",
     "start_time": "2023-06-20T11:30:02.791015879Z"
    }
   }
  },
  {
   "cell_type": "code",
   "execution_count": 41,
   "outputs": [
    {
     "name": "stdout",
     "output_type": "stream",
     "text": [
      "[['Production of electricity, gas, steam and air conditioning supply sa, index', 'Intact forest landscape loss, % since 2000', -0.5331751414579912], ['Production of total energy sa, Index', 'Labour tax revenue, % GDP', 0.5179395350146646], ['Production of total energy sa, Index', 'Life expectancy at birth', 0.5150610798480496], ['Production of total energy sa, Index', 'Population with access to improved drinking water sources, % total population ', 0.5169046009160407], ['Production of total energy sa, Index', 'Population, ages 0-14, % total', -0.5379860505755455], ['Production of total energy sa, Index', 'Population, ages 65 and above, % total', 0.5389089533818028], ['Production of total energy sa, Index', 'Total fertility rate, children per woman', -0.5278387882507101], ['Work started for dwellings sa, Index', 'Conversion of not-water to permanent water surface, % permanent water, since 1984', 0.5868149689865616], ['Work started for dwellings sa, Index', 'Conversion of seasonal to permanent water surface, % permanent water, since 1984', 0.5929428993311798]]\n"
     ]
    }
   ],
   "source": [
    "df_water = pd.read_csv('water_set_done.csv')\n",
    "\n",
    "water_list = list(df_water.columns.values)\n",
    "\n",
    "first_column_water = df_water.pop('ISO3')\n",
    "df_water.insert(0, 'ISO3', first_column_water)\n",
    "\n",
    "df_combined4 = df_green.merge(df_water, on='ISO3')\n",
    "\n",
    "print(water_list)\n",
    "\n",
    "corr_list = []\n",
    "\n",
    "for item in green_list[3:]:\n",
    "    corr = df_combined4['RURAL-Proportion-Non-piped'].corr(df_combined4[item])\n",
    "    if corr >= 0.5 or corr <= -0.5:\n",
    "        corr_list.append([corr, item])"
   ],
   "metadata": {
    "collapsed": false,
    "ExecuteTime": {
     "end_time": "2023-06-20T11:25:09.904726271Z",
     "start_time": "2023-06-20T11:25:08.097973035Z"
    }
   }
  }
 ],
 "metadata": {
  "kernelspec": {
   "display_name": "Python 3",
   "language": "python",
   "name": "python3"
  },
  "language_info": {
   "codemirror_mode": {
    "name": "ipython",
    "version": 2
   },
   "file_extension": ".py",
   "mimetype": "text/x-python",
   "name": "python",
   "nbconvert_exporter": "python",
   "pygments_lexer": "ipython2",
   "version": "2.7.6"
  }
 },
 "nbformat": 4,
 "nbformat_minor": 0
}
