{
 "cells": [
  {
   "cell_type": "markdown",
   "source": [
    "# Feedback from group / TA\n",
    "#### Feedback van groepen J3, R4\n",
    "\n",
    "1. Plots waren duidelijk /\n",
    "2. Link naar repository voor met name preprocessing in de appendix.\n",
    "3. Let op de hoeveelheid tekst.\n",
    "4. Variabelen duidelijker aangeven, komt weer terug op tekst gebruiken als onderbouwing.\n",
    "5. Caption met conclusie (fig.add_annotation()).\n",
    "6. Parcats nog wat duidelijker maken vooral de onderbouwing en industrie duidelijker definiëren."
   ],
   "metadata": {
    "collapsed": false
   }
  }
 ],
 "metadata": {
  "kernelspec": {
   "display_name": "Python 3",
   "language": "python",
   "name": "python3"
  },
  "language_info": {
   "codemirror_mode": {
    "name": "ipython",
    "version": 2
   },
   "file_extension": ".py",
   "mimetype": "text/x-python",
   "name": "python",
   "nbconvert_exporter": "python",
   "pygments_lexer": "ipython2",
   "version": "2.7.6"
  }
 },
 "nbformat": 4,
 "nbformat_minor": 0
}
