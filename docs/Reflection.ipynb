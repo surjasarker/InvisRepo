{
 "cells": [
  {
   "attachments": {},
   "cell_type": "markdown",
   "metadata": {
    "collapsed": false
   },
   "source": [
    "# Feedback from group / TA\n",
    "#### Feedback van groepen J3, R4\n",
    "\n",
    "1. Plots waren duidelijk\n",
    "2. Link naar repository voor met name preprocessing in de appendix.\n",
    "3. Let op de hoeveelheid tekst.\n",
    "4. Variabelen duidelijker aangeven, komt weer terug op tekst gebruiken als onderbouwing.\n",
    "5. Caption met conclusie (fig.add_annotation()).\n",
    "6. Parcats nog wat duidelijker maken vooral de onderbouwing en industrie duidelijker definiëren."
   ]
  },
  {
   "attachments": {},
   "cell_type": "markdown",
   "metadata": {},
   "source": [
    "# Take aways\n",
    "After the feedback we realized we had to change up the wording and had to let the figures do the explaining. We changed all texts to achieve this.\n",
    "\n",
    "We also changed the way of showing our exact preprocessing, which is a link now.\n",
    "\n",
    "We changed the annotations and explained the variables more carefully.\n",
    "\n",
    "This feedback has been super important for our project, with it we massively improved our project and clarity of our arguments."
   ]
  },
  {
   "attachments": {},
   "cell_type": "markdown",
   "metadata": {},
   "source": []
  }
 ],
 "metadata": {
  "kernelspec": {
   "display_name": "Python 3",
   "language": "python",
   "name": "python3"
  },
  "language_info": {
   "codemirror_mode": {
    "name": "ipython",
    "version": 2
   },
   "file_extension": ".py",
   "mimetype": "text/x-python",
   "name": "python",
   "nbconvert_exporter": "python",
   "pygments_lexer": "ipython2",
   "version": "2.7.6"
  }
 },
 "nbformat": 4,
 "nbformat_minor": 0
}
