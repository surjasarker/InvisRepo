{
 "cells": [
  {
   "attachments": {},
   "cell_type": "markdown",
   "metadata": {},
   "source": [
    "[1] https://www.ncbi.nlm.nih.gov/pmc/articles/PMC6465866/\n",
    "\n",
    "[2] https://www.sciencedirect.com/science/article/abs/pii/B9780128190012000218"
   ]
  },
  {
   "attachments": {},
   "cell_type": "markdown",
   "metadata": {},
   "source": []
  }
 ],
 "metadata": {
  "language_info": {
   "name": "python"
  },
  "orig_nbformat": 4
 },
 "nbformat": 4,
 "nbformat_minor": 2
}
