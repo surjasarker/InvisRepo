{
 "cells": [
  {
   "attachments": {},
   "cell_type": "markdown",
   "metadata": {},
   "source": [
    "# Generative AI Usage\n",
    "1. ChatGPT with GPT 3.5\n",
    "2. ChatGPT with GPT 3.5\n",
    "3. ChatGPT with GPT 3.5\n",
    "\n",
    "# Reasons of Usage\n",
    "1. Having trouble creating a world map with data\n",
    "2. Animating figure quicker\n",
    "3. Not being able to figure out how to create a new dataframe from a dataframe in which two columns both contain data.\n",
    "# What part?\n",
    "1. Fig_basic\n",
    "2. Fig_basic\n",
    "3. fig_4 & fig_5 (same code)\n",
    "# Which promts were used?\n",
    "1. How do I make a map with data in plotly using the attribute 'Country' for the countries and 'NATIONAL-Basic' as data.\n",
    "2. How do I make my timeline go faster in my choropleth fig?\n",
    "3. Hello chat, I need a way to create a new pandas dataframe with only the rows from another dataframe containing values in two specific columns that are both not nan"
   ]
  },
  {
   "attachments": {},
   "cell_type": "markdown",
   "metadata": {},
   "source": []
  }
 ],
 "metadata": {
  "language_info": {
   "name": "python"
  },
  "orig_nbformat": 4
 },
 "nbformat": 4,
 "nbformat_minor": 2
}
