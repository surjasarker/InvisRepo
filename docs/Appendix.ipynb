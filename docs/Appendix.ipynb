{
 "cells": [
  {
   "attachments": {},
   "cell_type": "markdown",
   "metadata": {},
   "source": [
    "# Generative AI Usage\n",
    "1. ChatGPT with GPT 3.5\n",
    "2. ChatGPT with GPT 3.5\n",
    "3. ChatGPT with GPT 3.5\n",
    "4. ChatGPT with GPT 3.5\n",
    "5. ChatGPT with GPT 3.5\n",
    "6. ChatGPT with GPT 3.5\n",
    "\n",
    "# Reasons of Usage\n",
    "1. Having trouble creating a world map with data\n",
    "2. Animating figure quicker\n",
    "2. Making a graph with my data\n",
    "4. Not being able to figure out how to create a new dataframe from a dataframe in which two columns both contain data.\n",
    "5. making a 3d graph with averages of values from a csv\n",
    "6. making a regression line from a 3d graph\n",
    "# What part?\n",
    "1. Fig_basic\n",
    "2. Fig_basic\n",
    "3. figgdp\n",
    "4. fig_4 & fig_5 (same code)\n",
    "5. fig3d\n",
    "6. fgi3dreg\n",
    "# Which promts were used?\n",
    "1. How do I make a map with data in plotly using the attribute 'Country' for the countries and 'NATIONAL-Basic' as data.\n",
    "2. How do I make my timeline go faster in my choropleth fig?\n",
    "3. Can you use the GDP per country and bin  with qcut to low medium and high, then with those bins take the Average Production of total industry sa, Index of the countries in each bin and make a graph that has  that in the y axis and Year in the x axis?\n",
    "4. Hello chat, I need a way to create a new pandas dataframe with only the rows from another dataframe containing values in two specific columns that are both not nan\n",
    "5. hello can you take these three variables and make a plotly express 3d plot with the averages of them\n",
    "6. hello i have this 3d graph can you make a regression line inbetween (the two chosen variables) and display the year on each dot aswell as an int"
   ]
  },
  {
   "attachments": {},
   "cell_type": "markdown",
   "metadata": {},
   "source": []
  }
 ],
 "metadata": {
  "language_info": {
   "name": "python"
  },
  "orig_nbformat": 4
 },
 "nbformat": 4,
 "nbformat_minor": 2
}
