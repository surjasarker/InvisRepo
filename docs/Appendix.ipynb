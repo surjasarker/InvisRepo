 {
 "cells": [
  {
   "attachments": {},
   "cell_type": "markdown",
   "metadata": {},
   "source": [
    "# Generative AI Usage\n",
    "1. ChatGPT with GPT 3.5\n",
    "2. ChatGPT with GPT 3.5\n",
    "3. ChatGPT with GPT 3.5\n",
    "\n",
    "# Reasons of Usage\n",
    "1. Having trouble creating a world map with data\n",
    "2. Animating figure quicker\n",
    "2. Making a graph with my data\n",
    "# What part?\n",
    "1. Fig_basic\n",
    "2. Fig_basic\n",
    "3. figgdp\n",
    "# Which promts were used?\n",
    "1. How do I make a map with data in plotly using the attribute 'Country' for the countries and 'NATIONAL-Basic' as data.\n",
    "2. How do I make my timeline go faster in my choropleth fig?\n",
    "3. Can you use the GDP per country and bin  with qcut to low medium and high, then with those bins take the Average Production of total industry sa, Index of the countries in each bin and make a graph that has  that in the y axis and Year in the x axis?"
   ]
  },
  {
   "attachments": {},
   "cell_type": "markdown",
   "metadata": {},
   "source": []
  }
 ],
 "metadata": {
  "language_info": {
   "name": "python"
  },
  "orig_nbformat": 4
 },
 "nbformat": 4,
 "nbformat_minor": 2
}
