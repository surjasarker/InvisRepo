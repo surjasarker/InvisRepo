{
 "cells": [
  {
   "attachments": {},
   "cell_type": "markdown",
   "metadata": {},
   "source": [
    "# Introduction\n",
    "\n",
    "The industrial revolution was exactly that, a revolution. A time in which our way of living was changed drastically through the automation of the production of many goods in bulk, the advancement of science and medicine, and the following growth in the quality of life itself for so many all over the world. The rise of industry brought a great deal of incredible things with skyrocketing the world into a global society connecting nearly everyone on Earth.\n",
    "\n",
    "Though as we know today, the effects of industry are not all fantastic. In recent years more and more concerns have been raised on the topic of global warming which has been on the rise ever since the conception of modern day industry. Apart from the explosive increase of greenhouse gasses such as CO2 and methane in the atmosphere caused by human activities such as industry there are also plenty of other pollutants that the environment has to deal with. By infecting the ground and water, pollutants threaten to destroy entire ecosystems and cause many species of plants and animals to go extinct.\n",
    "\n",
    "Regardless of public opinion, there are also those that cherish more conservative ideas on the topic of industry. On a basic level there are two different views people can take on, on the one hand there are people that are convinced that industry is something to be weary of, and on the other hand there are those that believe there is no problem with industry at all. These two types of people clash often in the real world, but what are the facts? What does the data say about all this? What truly are the effects of industry on our world? By looking at data referring to  it might be possible to obtain an answer to these questions.\n"
   ]
  },
  {
   "attachments": {},
   "cell_type": "markdown",
   "metadata": {},
   "source": [
    "# Dataset and Preprocessing\n",
    "\n",
    "In order to conduct our research on this matter it was necessary to acquire a few datasets to look at and find connections between. Five separate datasets were selected, a dataset on water quality, a dataset on industry, a dataset on infrastructure, a dataset on innovation, and lastly a dataset on nature. Every dataset contains a column with three-letter country tags which were used to join the datasets together during the research process. Therefor this column was renamed to 'ISO3' in every dataset. The dataset were also each pivoted in order to match the same column pattern and order. With this country tag column as the join key all of the data has been ordered by year. The following is a short rundown of each dataset with links to each webpage."
   ]
  },
  {
   "attachments": {},
   "cell_type": "markdown",
   "metadata": {},
   "source": [
    "#### Dataset 1: water_set_done.csv\n",
    "\n",
    "Original link: https://washdata.org/data/country/WLD/household/download\n",
    "\n",
    "Short description:  This dataset contains 46 different attributes and 4914 different entries. These attributes include things such as total population, rural surface water percentage and to what extend water quality and access has improved in different regions for almost every major country on earth from the year 2000 up until the year 2020. The data is split in three main categories:\n",
    "1. National (Proportion)\n",
    "2. Urban (Proportion)\n",
    "3. Rural (Proportion)\n",
    "\n",
    "Preprocessing: With preprocessing the attributes' names changed, in order to make it more readable in pandas. The categories National/Urban/Rural got merged into the attribute names, so from category Rural with subcategory Surface water, the new attribute name would be changed to 'RURAL-Surface water'. In order to make up for missing data the data has been filled in, grouped by country, with the python functions ffill() and bfill(). The countries have been seperated for this step so their data wouldn't intervene. Strings like '>99' have also been changed to floats 99.0 and these are now the maximum values for these attributes."
   ]
  },
  {
   "cell_type": "code",
   "execution_count": 1,
   "metadata": {
    "tags": [
     "hide_cell"
    ],
    "ExecuteTime": {
     "end_time": "2023-06-29T19:32:31.351342238Z",
     "start_time": "2023-06-29T19:32:29.883241384Z"
    }
   },
   "outputs": [
    {
     "data": {
      "text/html": [
       "<div>\n",
       "<style scoped>\n",
       "    .dataframe tbody tr th:only-of-type {\n",
       "        vertical-align: middle;\n",
       "    }\n",
       "\n",
       "    .dataframe tbody tr th {\n",
       "        vertical-align: top;\n",
       "    }\n",
       "\n",
       "    .dataframe thead th {\n",
       "        text-align: right;\n",
       "    }\n",
       "</style>\n",
       "<table border=\"1\" class=\"dataframe\">\n",
       "  <thead>\n",
       "    <tr style=\"text-align: right;\">\n",
       "      <th></th>\n",
       "      <th>Unnamed: 0</th>\n",
       "      <th>Country</th>\n",
       "      <th>ISO3</th>\n",
       "      <th>Year</th>\n",
       "      <th>Population (thousands)</th>\n",
       "      <th>% urban</th>\n",
       "      <th>NATIONAL-Basic</th>\n",
       "      <th>NATIONAL-Limited</th>\n",
       "      <th>NATIONAL-Unimproved</th>\n",
       "      <th>NATIONAL-Surface water</th>\n",
       "      <th>...</th>\n",
       "      <th>URBAN-Proportion-Available when needed</th>\n",
       "      <th>URBAN-Proportion-Free from contamination</th>\n",
       "      <th>URBAN-Proportion-Annual rate of change in safely managed</th>\n",
       "      <th>URBAN-Proportion-Piped</th>\n",
       "      <th>URBAN-Proportion-Non-piped</th>\n",
       "      <th>Sl</th>\n",
       "      <th>SDG region</th>\n",
       "      <th>WHO region</th>\n",
       "      <th>UNICEF Programming region</th>\n",
       "      <th>UNICEF Reporting region</th>\n",
       "    </tr>\n",
       "  </thead>\n",
       "  <tbody>\n",
       "    <tr>\n",
       "      <th>0</th>\n",
       "      <td>0</td>\n",
       "      <td>Afghanistan</td>\n",
       "      <td>AFG</td>\n",
       "      <td>2000.0</td>\n",
       "      <td>20779.957031</td>\n",
       "      <td>22.077999</td>\n",
       "      <td>28.171415</td>\n",
       "      <td>3.660638</td>\n",
       "      <td>43.178306</td>\n",
       "      <td>24.989641</td>\n",
       "      <td>...</td>\n",
       "      <td>NaN</td>\n",
       "      <td>20.570155</td>\n",
       "      <td>0.790563</td>\n",
       "      <td>17.408464</td>\n",
       "      <td>39.131826</td>\n",
       "      <td>1.0</td>\n",
       "      <td>Central and Southern Asia</td>\n",
       "      <td>Eastern Mediterranean</td>\n",
       "      <td>South Asia</td>\n",
       "      <td>South Asia</td>\n",
       "    </tr>\n",
       "    <tr>\n",
       "      <th>1</th>\n",
       "      <td>1</td>\n",
       "      <td>Afghanistan</td>\n",
       "      <td>AFG</td>\n",
       "      <td>2001.0</td>\n",
       "      <td>21606.992188</td>\n",
       "      <td>22.169001</td>\n",
       "      <td>28.199366</td>\n",
       "      <td>3.661542</td>\n",
       "      <td>43.167542</td>\n",
       "      <td>24.971550</td>\n",
       "      <td>...</td>\n",
       "      <td>NaN</td>\n",
       "      <td>20.570155</td>\n",
       "      <td>0.790563</td>\n",
       "      <td>17.408464</td>\n",
       "      <td>39.131826</td>\n",
       "      <td>2.0</td>\n",
       "      <td>Central and Southern Asia</td>\n",
       "      <td>Eastern Mediterranean</td>\n",
       "      <td>South Asia</td>\n",
       "      <td>South Asia</td>\n",
       "    </tr>\n",
       "    <tr>\n",
       "      <th>2</th>\n",
       "      <td>2</td>\n",
       "      <td>Afghanistan</td>\n",
       "      <td>AFG</td>\n",
       "      <td>2002.0</td>\n",
       "      <td>22600.773438</td>\n",
       "      <td>22.261000</td>\n",
       "      <td>30.236385</td>\n",
       "      <td>3.949472</td>\n",
       "      <td>41.689620</td>\n",
       "      <td>24.124524</td>\n",
       "      <td>...</td>\n",
       "      <td>NaN</td>\n",
       "      <td>21.416514</td>\n",
       "      <td>0.790563</td>\n",
       "      <td>18.695357</td>\n",
       "      <td>40.171284</td>\n",
       "      <td>3.0</td>\n",
       "      <td>Central and Southern Asia</td>\n",
       "      <td>Eastern Mediterranean</td>\n",
       "      <td>South Asia</td>\n",
       "      <td>South Asia</td>\n",
       "    </tr>\n",
       "  </tbody>\n",
       "</table>\n",
       "<p>3 rows × 47 columns</p>\n",
       "</div>"
      ],
      "text/plain": [
       "   Unnamed: 0      Country ISO3    Year  Population (thousands)    % urban  \\\n",
       "0           0  Afghanistan  AFG  2000.0            20779.957031  22.077999   \n",
       "1           1  Afghanistan  AFG  2001.0            21606.992188  22.169001   \n",
       "2           2  Afghanistan  AFG  2002.0            22600.773438  22.261000   \n",
       "\n",
       "   NATIONAL-Basic  NATIONAL-Limited  NATIONAL-Unimproved  \\\n",
       "0       28.171415          3.660638            43.178306   \n",
       "1       28.199366          3.661542            43.167542   \n",
       "2       30.236385          3.949472            41.689620   \n",
       "\n",
       "   NATIONAL-Surface water  ...  URBAN-Proportion-Available when needed  \\\n",
       "0               24.989641  ...                                     NaN   \n",
       "1               24.971550  ...                                     NaN   \n",
       "2               24.124524  ...                                     NaN   \n",
       "\n",
       "   URBAN-Proportion-Free from contamination  \\\n",
       "0                                 20.570155   \n",
       "1                                 20.570155   \n",
       "2                                 21.416514   \n",
       "\n",
       "   URBAN-Proportion-Annual rate of change in safely managed  \\\n",
       "0                                           0.790563          \n",
       "1                                           0.790563          \n",
       "2                                           0.790563          \n",
       "\n",
       "   URBAN-Proportion-Piped  URBAN-Proportion-Non-piped   Sl  \\\n",
       "0               17.408464                   39.131826  1.0   \n",
       "1               17.408464                   39.131826  2.0   \n",
       "2               18.695357                   40.171284  3.0   \n",
       "\n",
       "                  SDG region             WHO region  \\\n",
       "0  Central and Southern Asia  Eastern Mediterranean   \n",
       "1  Central and Southern Asia  Eastern Mediterranean   \n",
       "2  Central and Southern Asia  Eastern Mediterranean   \n",
       "\n",
       "   UNICEF Programming region  UNICEF Reporting region  \n",
       "0                 South Asia               South Asia  \n",
       "1                 South Asia               South Asia  \n",
       "2                 South Asia               South Asia  \n",
       "\n",
       "[3 rows x 47 columns]"
      ]
     },
     "execution_count": 1,
     "metadata": {},
     "output_type": "execute_result"
    }
   ],
   "source": [
    "import pandas as pd\n",
    "\n",
    "pd.read_csv('new_water_done5.csv').head(n=3)"
   ]
  },
  {
   "attachments": {},
   "cell_type": "markdown",
   "metadata": {},
   "source": [
    "#### Dataset 2: iso_infra.csv\n",
    "\n",
    "Original link: https://stats.oecd.org/Index.aspx?QueryId=73638\n",
    "\n",
    "Short description:  This dataset contains 23 attributes and 1340 entries which provide information about a multitude of different major countries from the year 2000 up until the year 2020 on the topic of nation wide infrastructure. Such points of information include such things as the number of airports per 1 million of inhabitants, the total density of road and inland waterway infrastructure spending."
   ]
  },
  {
   "cell_type": "code",
   "execution_count": null,
   "metadata": {
    "tags": [
     "hide_cell"
    ]
   },
   "outputs": [],
   "source": [
    "pd.read_csv('iso_infra.csv').head(n=3)"
   ]
  },
  {
   "attachments": {},
   "cell_type": "markdown",
   "metadata": {},
   "source": [
    "#### Dataset 3: iso_green\n",
    "\n",
    "Original link: https://stats.oecd.org/Index.aspx?DataSetCode=GREEN_GROWTH\n",
    "\n",
    "Short description:  This dataset contains 165 different attributes and 5366 total entries detailing different points of information from a grand multitude of different countries on the topic of green growth. Green growth is a concept which is measured in a number of ways such as the CO2 productivity, energy productivity, and freshwater and forest resources. These points of data provide insight into the progress countries have been making towards a greener and more environmentally friendly way of living."
   ]
  },
  {
   "cell_type": "code",
   "execution_count": null,
   "metadata": {
    "tags": [
     "hide_cell"
    ]
   },
   "outputs": [],
   "source": [
    "pd.read_csv('iso_green.csv').head(n=3)"
   ]
  },
  {
   "attachments": {},
   "cell_type": "markdown",
   "metadata": {},
   "source": [
    "#### Dataset 4: iso_ino.csv\n",
    "\n",
    "Original link: https://stats.oecd.org/Index.aspx?DataSetCode=REGION_INNOVATION\n",
    "\n",
    "Short description: This dataset has 82 different attributes and 1005 total entries which provide information on the topic of regional information for most countries on Earth. These attributes include things such as different levels of student enrolment, the spread of the workforce throughout the different sectors, and progress and innovation on numerous things such as nanotech and medicine. This dataset could provide insight into how well developed countries are and how they have progressed throughout the years."
   ]
  },
  {
   "cell_type": "code",
   "execution_count": null,
   "metadata": {
    "tags": [
     "hide_cell"
    ]
   },
   "outputs": [],
   "source": [
    "pd.read_csv('iso_inno.csv').head(n=3)"
   ]
  },
  {
   "attachments": {},
   "cell_type": "markdown",
   "metadata": {},
   "source": [
    "#### Dataset 4: iso_mei.csv\n",
    "\n",
    "Original link: https://stats.oecd.org/Index.aspx?DataSetCode=MEI_REAL\n",
    "\n",
    "Short description:  This dataset contains 14 attributes and 987 different entries of a multitude of different countries from the year 2000 up until the year 2020 on the topic of the production and sales of different products a country produces. These attributes include things such as production of different kinds of goods such as intermediate goods and service goods, and the production of energy and electricity. With this dataset it is possible to gain insight into the kind of services a country provides which allows one to determine its place on the world's grand stage."
   ]
  },
  {
   "cell_type": "code",
   "execution_count": null,
   "metadata": {
    "tags": [
     "hide_cell"
    ]
   },
   "outputs": [],
   "source": [
    "pd.read_csv('iso_mei.csv').head(n=3)"
   ]
  }
 ],
 "metadata": {
  "celltoolbar": "Tags",
  "kernelspec": {
   "display_name": "Python 3 (ipykernel)",
   "language": "python",
   "name": "python3"
  },
  "language_info": {
   "codemirror_mode": {
    "name": "ipython",
    "version": 3
   },
   "file_extension": ".py",
   "mimetype": "text/x-python",
   "name": "python",
   "nbconvert_exporter": "python",
   "pygments_lexer": "ipython3",
   "version": "3.10.6"
  }
 },
 "nbformat": 4,
 "nbformat_minor": 1
}
